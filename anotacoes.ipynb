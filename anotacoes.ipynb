{
 "cells": [
  {
   "cell_type": "markdown",
   "id": "e982235a-0deb-45a0-8c90-ce2f141c0e49",
   "metadata": {},
   "source": [
    "# Dúvidas/Anotações"
   ]
  },
  {
   "cell_type": "markdown",
   "id": "19795d19-82a1-46c6-ae47-66a60a2d02cc",
   "metadata": {},
   "source": [
    "Os dados baixados das bases comumente possuem duplicatas, que aparecem como registros diferentes por diferenças mínimas em algum campo. Acreditamos que essas diferenças podem decorrer de erros das bases. O arquivo `data/duplicates.csv` apresenta todas as linhas que possuam um documento com 'Título' duplicado, separados por database."
   ]
  },
  {
   "cell_type": "code",
   "execution_count": null,
   "id": "466054a5-4312-41c2-bd4c-353e2e09e8aa",
   "metadata": {},
   "outputs": [],
   "source": []
  }
 ],
 "metadata": {
  "kernelspec": {
   "display_name": "Python 3 (ipykernel)",
   "language": "python",
   "name": "python3"
  },
  "language_info": {
   "codemirror_mode": {
    "name": "ipython",
    "version": 3
   },
   "file_extension": ".py",
   "mimetype": "text/x-python",
   "name": "python",
   "nbconvert_exporter": "python",
   "pygments_lexer": "ipython3",
   "version": "3.10.6"
  }
 },
 "nbformat": 4,
 "nbformat_minor": 5
}
