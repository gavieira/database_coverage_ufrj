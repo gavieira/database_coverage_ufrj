{
 "cells": [
  {
   "cell_type": "markdown",
   "id": "e982235a-0deb-45a0-8c90-ce2f141c0e49",
   "metadata": {},
   "source": [
    "# Dúvidas/Anotações"
   ]
  },
  {
   "cell_type": "markdown",
   "id": "19795d19-82a1-46c6-ae47-66a60a2d02cc",
   "metadata": {},
   "source": [
    "## Dados duplicados\n",
    "Os dados baixados das bases comumente possuem duplicatas, que aparecem como registros diferentes por diferenças mínimas em algum campo. Acreditamos que essas diferenças podem decorrer de erros das bases. O arquivo `output/data/duplicates.csv` apresenta todas as linhas que possuam um documento com 'Título' duplicado, separados por database."
   ]
  },
  {
   "cell_type": "markdown",
   "id": "8f1b5603-1f6a-4345-8e10-11bf3e0f4459",
   "metadata": {},
   "source": [
    "## Bibliometrix summaries\n",
    "\n",
    "Apesar de não ter pretensões de checar absolutamente todos os dados, os resultados da função `summary()` do bibliometrix retornam todos os documentos separados por tipo de documento  e esses valores somados batem com o quantitativo baixado, com exceção da Scopus, que possui 94809, mas no summary aparecem apenas 94771.\n",
    "\n",
    "Acredito que seja por causa dos documentos não classificados, já que ci que a \"categoria\" NA não aparece no objeto 'summaries', mas aparece ao pegar valores únicos das 'dfs['DT']'"
   ]
  }
 ],
 "metadata": {
  "kernelspec": {
   "display_name": "Python 3 (ipykernel)",
   "language": "python",
   "name": "python3"
  },
  "language_info": {
   "codemirror_mode": {
    "name": "ipython",
    "version": 3
   },
   "file_extension": ".py",
   "mimetype": "text/x-python",
   "name": "python",
   "nbconvert_exporter": "python",
   "pygments_lexer": "ipython3",
   "version": "3.10.6"
  }
 },
 "nbformat": 4,
 "nbformat_minor": 5
}
