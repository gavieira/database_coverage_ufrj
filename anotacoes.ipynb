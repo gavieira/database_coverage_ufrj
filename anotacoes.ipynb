{
 "cells": [
  {
   "cell_type": "markdown",
   "id": "e982235a-0deb-45a0-8c90-ce2f141c0e49",
   "metadata": {},
   "source": [
    "# Dúvidas/Anotações"
   ]
  },
  {
   "cell_type": "markdown",
   "id": "19795d19-82a1-46c6-ae47-66a60a2d02cc",
   "metadata": {},
   "source": [
    "## Dados duplicados\n",
    "Os dados baixados das bases comumente possuem duplicatas, que aparecem como registros diferentes por diferenças mínimas em algum campo. Acreditamos que essas diferenças podem decorrer de erros das bases. O arquivo `output/data/duplicates.csv` apresenta todas as linhas que possuam um documento com 'Título' duplicado, separados por database."
   ]
  },
  {
   "cell_type": "markdown",
   "id": "8f1b5603-1f6a-4345-8e10-11bf3e0f4459",
   "metadata": {},
   "source": [
    "## Bibliometrix summaries (RESOLVIDO)\n",
    "\n",
    "Apesar de não ter pretensões de checar absolutamente todos os dados, os resultados da função `summary()` do bibliometrix retornam todos os documentos separados pelo campo `document type`  e esses valores somados batem com o quantitativo baixado, com exceção da Scopus, que possui 94809, mas no summary aparecem apenas 94771.\n",
    "\n",
    "Isso aconteceu por causa dos documentos não classificados, que não foram incorporados às tabelas geradas pelo bibliometrix. Esses documentos foram inseridos posteriormente para a geração de gráficos."
   ]
  },
  {
   "cell_type": "markdown",
   "id": "500da790-68e4-4b14-81c9-91e2cb42f579",
   "metadata": {},
   "source": [
    "## Cited references\n",
    "\n",
    "Dimensions e Lens não possuem lista de referências no arquivo padrão exportado.\n",
    "\n",
    "Entretanto, é possível obter elas de outras formas:\n",
    "\n",
    "- Dimensions: Usando a API (pacote DimensionsR ou baixando os dados)\n",
    "- Lens: Baixando o export em json ou jsonl"
   ]
  },
  {
   "cell_type": "markdown",
   "id": "08a0147d-69d3-416c-85b8-79ec1ca381b0",
   "metadata": {},
   "source": [
    "## Índices de citação\n",
    "\n",
    "Eu resolvi trabalhar com alguns índices para pesquidadores individuais (que podem, consequentemente, ser ampliados para grupos de pesquisa ou mesmo instituições) descritos em [Garner et al. (2017)](https://pubmed.ncbi.nlm.nih.gov/28824008/):\n",
    "- h-index (claro)\n",
    "- e-index: um complemento ao h-index que leva em conta o excesso de citações\n",
    "- g-index (h<sup>2</sup>-index): alternativa ao h-index que também considera documentos muito citados\n",
    "- h<sup>c</sup>-index: h-index contemporaneo: alternativa que considera a idade dos documentos\n",
    "- i10-index: documentos com mais de 10 citações\n",
    "\n",
    "Como estamos comparando databases e não autores/instituições que possuam diferentes idades, o `quociente m`, índice que normaliza o h-index por tempo de atividade não foi calculado.\n",
    "\n",
    "Obs: de todas as bases de dados, apenas Web of Science apresentou NAs no campo \"Publication Year\""
   ]
  },
  {
   "cell_type": "markdown",
   "id": "87d8b024-6422-49a5-af2b-13c0e2154bc9",
   "metadata": {},
   "source": [
    "## AMANHÃ\n",
    "\n",
    "- Fazer funções que:\n",
    "    - receba nome de coluna com doctypes e os mude para os doctypes normalizados\n",
    "    - plote histograma a partir de dataframe (ou tenha uma flag que pegue um doctype específico)\n",
    "    - gere citation metrics a partir de df (doctype flag?)\n",
    "    - gere o summary por década\n",
    "    - (talvez) faça o gráfico similar ao do bibliometrix, onde os parametros vão ser o summary por década, e as variáveis para x, y, size e alpha\n",
    "    - faça o plot facetado por métrica"
   ]
  },
  {
   "cell_type": "code",
   "execution_count": null,
   "id": "389ad406-31ab-4355-b4ab-166a40ca6637",
   "metadata": {},
   "outputs": [],
   "source": []
  }
 ],
 "metadata": {
  "kernelspec": {
   "display_name": "Python 3 (ipykernel)",
   "language": "python",
   "name": "python3"
  },
  "language_info": {
   "codemirror_mode": {
    "name": "ipython",
    "version": 3
   },
   "file_extension": ".py",
   "mimetype": "text/x-python",
   "name": "python",
   "nbconvert_exporter": "python",
   "pygments_lexer": "ipython3",
   "version": "3.10.6"
  }
 },
 "nbformat": 4,
 "nbformat_minor": 5
}
