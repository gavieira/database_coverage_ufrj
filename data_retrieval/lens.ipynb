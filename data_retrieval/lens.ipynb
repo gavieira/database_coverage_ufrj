{
 "cells": [
  {
   "cell_type": "markdown",
   "id": "7f497bb7-9d6d-4c56-a215-01b8be2bba6b",
   "metadata": {},
   "source": [
    "# Lens data retrieval"
   ]
  },
  {
   "cell_type": "markdown",
   "id": "d55cc0be-c27e-4e36-8b73-acad74148eac",
   "metadata": {},
   "source": [
    "In order to obtain Lens data, we have used their [Scholarly Search](https://www.lens.org/lens/search/scholar/list?preview=true&q=) tool.\n",
    "\n",
    "[Our query](https://www.lens.org/lens/search/scholar/list?q=author.affiliation.name:(%22Federal%20University%20of%20Rio%20de%20Janeiro%22)%20OR%20author.affiliation.name:%22UFRJ%22%20OR%20author.affiliation.name:(%22Universidade%20Federal%20do%20Rio%20de%20Janeiro%22)&dateFilterField=publishedYear&publishedYear.from=1900&publishedYear.to=2022) to obtain all UFRJ publications up to 2022 can be summarized as:\n",
    "\n",
    "```\n",
    "Author Affiliation Name: ( \"Federal University of Rio de Janeiro\" ) OR ( Author Affiliation Name: UFRJ OR Author Affiliation Name: ( \"Universidade Federal do Rio de Janeiro\" ) )\n",
    "Filters: Year Published = ( 1900 - 2022 ) \n",
    "```"
   ]
  },
  {
   "cell_type": "markdown",
   "id": "3a48a341-49d8-474f-a8c1-076c58f106e8",
   "metadata": {},
   "source": [
    "This yielded a large number of records (114169 records - access date: 11/02/2022), which goes above the max number of records per download of the platform (50k/download). \n",
    "\n",
    "Thus, we split this data into three subsets containing documents published in the following periods: \n",
    "- [Up to 2012](https://www.lens.org/lens/search/scholar/list?q=author.affiliation.name:(%22Federal%20University%20of%20Rio%20de%20Janeiro%22)%20OR%20author.affiliation.name:%22UFRJ%22%20OR%20author.affiliation.name:(%22Universidade%20Federal%20do%20Rio%20de%20Janeiro%22)&dateFilterField=publishedYear&publishedYear.from=1900&publishedYear.to=2012)\n",
    "- [2013-2019](https://www.lens.org/lens/search/scholar/list?q=author.affiliation.name:(%22Federal%20University%20of%20Rio%20de%20Janeiro%22)%20OR%20author.affiliation.name:%22UFRJ%22%20OR%20author.affiliation.name:(%22Universidade%20Federal%20do%20Rio%20de%20Janeiro%22)&dateFilterField=publishedYear&publishedYear.from=2013&publishedYear.to=2019)\n",
    "- [2020-2022](https://www.lens.org/lens/search/scholar/list?q=author.affiliation.name:(%22Federal%20University%20of%20Rio%20de%20Janeiro%22)%20OR%20author.affiliation.name:%22UFRJ%22%20OR%20author.affiliation.name:(%22Universidade%20Federal%20do%20Rio%20de%20Janeiro%22)&dateFilterField=publishedYear&publishedYear.from=2020&publishedYear.to=2022)\n",
    "\n",
    "Those subsets were downloaded separately (.csv and .jsonl) in 11/02/2023. The 'json lines' output was downloaded in order to obtain fields missing from the csv export, such as author's affiliations."
   ]
  },
  {
   "cell_type": "code",
   "execution_count": 1,
   "id": "883fa1c5-a5c3-4713-8ae8-f096824e665b",
   "metadata": {},
   "outputs": [
    {
     "data": {
      "text/html": [
       "<div>\n",
       "<style scoped>\n",
       "    .dataframe tbody tr th:only-of-type {\n",
       "        vertical-align: middle;\n",
       "    }\n",
       "\n",
       "    .dataframe tbody tr th {\n",
       "        vertical-align: top;\n",
       "    }\n",
       "\n",
       "    .dataframe thead th {\n",
       "        text-align: right;\n",
       "    }\n",
       "</style>\n",
       "<table border=\"1\" class=\"dataframe\">\n",
       "  <thead>\n",
       "    <tr style=\"text-align: right;\">\n",
       "      <th></th>\n",
       "      <th>id</th>\n",
       "      <th>title</th>\n",
       "      <th>queryType</th>\n",
       "      <th>queryId</th>\n",
       "      <th>published</th>\n",
       "      <th>tags</th>\n",
       "      <th>notes</th>\n",
       "      <th>created</th>\n",
       "      <th>collections</th>\n",
       "    </tr>\n",
       "  </thead>\n",
       "  <tbody>\n",
       "    <tr>\n",
       "      <th>0</th>\n",
       "      <td>45792</td>\n",
       "      <td>UFRJ (up to 2022)</td>\n",
       "      <td>SCHOLARLY</td>\n",
       "      <td>81893412-a49e-4454-bbda-5020c646510b</td>\n",
       "      <td>True</td>\n",
       "      <td>[]</td>\n",
       "      <td>[]</td>\n",
       "      <td>2023-01-23T15:22:21Z</td>\n",
       "      <td>[]</td>\n",
       "    </tr>\n",
       "    <tr>\n",
       "      <th>1</th>\n",
       "      <td>45584</td>\n",
       "      <td>UFRJ 2020-2022</td>\n",
       "      <td>SCHOLARLY</td>\n",
       "      <td>827e9291-aae5-4a34-bd2b-d32dbf05e6e0</td>\n",
       "      <td>True</td>\n",
       "      <td>[]</td>\n",
       "      <td>[]</td>\n",
       "      <td>2023-01-16T20:04:26Z</td>\n",
       "      <td>[]</td>\n",
       "    </tr>\n",
       "    <tr>\n",
       "      <th>2</th>\n",
       "      <td>45583</td>\n",
       "      <td>UFRJ 2013-2019</td>\n",
       "      <td>SCHOLARLY</td>\n",
       "      <td>b2c03b42-6244-4875-96e8-44dc26a597d5</td>\n",
       "      <td>True</td>\n",
       "      <td>[]</td>\n",
       "      <td>[]</td>\n",
       "      <td>2023-01-16T20:03:53Z</td>\n",
       "      <td>[]</td>\n",
       "    </tr>\n",
       "    <tr>\n",
       "      <th>3</th>\n",
       "      <td>45582</td>\n",
       "      <td>UFRJ 1900-2012</td>\n",
       "      <td>SCHOLARLY</td>\n",
       "      <td>355279a3-a056-4f13-a30f-58a701f177cb</td>\n",
       "      <td>True</td>\n",
       "      <td>[]</td>\n",
       "      <td>[]</td>\n",
       "      <td>2023-01-16T19:58:54Z</td>\n",
       "      <td>[]</td>\n",
       "    </tr>\n",
       "  </tbody>\n",
       "</table>\n",
       "</div>"
      ],
      "text/plain": [
       "      id              title  queryType                               queryId  \\\n",
       "0  45792  UFRJ (up to 2022)  SCHOLARLY  81893412-a49e-4454-bbda-5020c646510b   \n",
       "1  45584     UFRJ 2020-2022  SCHOLARLY  827e9291-aae5-4a34-bd2b-d32dbf05e6e0   \n",
       "2  45583     UFRJ 2013-2019  SCHOLARLY  b2c03b42-6244-4875-96e8-44dc26a597d5   \n",
       "3  45582     UFRJ 1900-2012  SCHOLARLY  355279a3-a056-4f13-a30f-58a701f177cb   \n",
       "\n",
       "   published tags notes               created collections  \n",
       "0       True   []    []  2023-01-23T15:22:21Z          []  \n",
       "1       True   []    []  2023-01-16T20:04:26Z          []  \n",
       "2       True   []    []  2023-01-16T20:03:53Z          []  \n",
       "3       True   []    []  2023-01-16T19:58:54Z          []  "
      ]
     },
     "execution_count": 1,
     "metadata": {},
     "output_type": "execute_result"
    }
   ],
   "source": [
    "#More information about the queries is also available as a csv file\n",
    "import pandas as pd\n",
    "\n",
    "pd.read_csv(\"data/lens_queries.csv\")"
   ]
  },
  {
   "cell_type": "markdown",
   "id": "47c05630-cf9c-47a4-a494-cfc86093fd9c",
   "metadata": {},
   "source": [
    "**Note**: .json files were downloaded in 14/02/2023 -> total: 114228. Will use the previous files' lens_id to get the same quantitative if necessary."
   ]
  }
 ],
 "metadata": {
  "kernelspec": {
   "display_name": "Python 3 (ipykernel)",
   "language": "python",
   "name": "python3"
  },
  "language_info": {
   "codemirror_mode": {
    "name": "ipython",
    "version": 3
   },
   "file_extension": ".py",
   "mimetype": "text/x-python",
   "name": "python",
   "nbconvert_exporter": "python",
   "pygments_lexer": "ipython3",
   "version": "3.10.6"
  }
 },
 "nbformat": 4,
 "nbformat_minor": 5
}
