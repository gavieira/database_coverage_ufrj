{
 "cells": [
  {
   "cell_type": "markdown",
   "id": "8b516f91-e4ba-4b3f-9ed0-026d3d086e86",
   "metadata": {
    "tags": []
   },
   "source": [
    "# Dimensions data retrieval via API\n",
    "\n",
    "Resources:\n",
    "    \n",
    "- [Documentation](https://docs.dimensions.ai/dsl/)\n",
    "- [API Lab](https://api-lab.dimensions.ai/)\n",
    "- [API Lab (github repository)](https://github.com/digital-science/dimensions-api-lab)\n",
    "\n",
    "This notebook will use the [dimcli library](https://github.com/digital-science/dimcli) (v.0.9.9.1) to access the Dimensions Analytics API.\n",
    "\n",
    "Queries can be performed using:\n",
    "- [Dimcli Magic Commands](https://api-lab.dimensions.ai/cookbooks/1-getting-started/4-Dimcli-magic-commands.html#Dimcli-%E2%80%98magic%E2%80%99-commands): Useful for jupyter notebooks\n",
    "\n",
    "- Dimcli library methods, such as `.query()` and `.query_iterative()`. In this case, its possible to create variables and pass them to the query through f-strings or any other string substitution method. It's also possible to [pass lists](https://api-lab.dimensions.ai/cookbooks/1-getting-started/6-Working-with-lists.html#3.-Making-a-list-from-the-results-of-a-query) to the queries using the `json.dumps()` method from the `json` module. We'll focus on this approach for querying."
   ]
  },
  {
   "cell_type": "markdown",
   "id": "3321e29d-0963-4b8d-9953-1149a99c6eff",
   "metadata": {},
   "source": [
    "## Initial setup"
   ]
  },
  {
   "cell_type": "code",
   "execution_count": 44,
   "id": "624bd7ab-0b51-469b-96de-61111ce5992b",
   "metadata": {},
   "outputs": [],
   "source": [
    "#Importing relevant libraries\n",
    "import dimcli\n",
    "import json\n",
    "import pandas as pd\n",
    "import seaborn as sns"
   ]
  },
  {
   "cell_type": "code",
   "execution_count": 19,
   "id": "f24b389e-50e7-45d8-8c0c-b4db57e9c8e6",
   "metadata": {},
   "outputs": [
    {
     "data": {
      "text/plain": [
       "'0.9.9.1'"
      ]
     },
     "execution_count": 19,
     "metadata": {},
     "output_type": "execute_result"
    }
   ],
   "source": [
    "#Checking dimcli version\n",
    "dimcli.__version__"
   ]
  },
  {
   "cell_type": "code",
   "execution_count": 20,
   "id": "56607e82-a346-4fcc-b54e-ce5225c83308",
   "metadata": {},
   "outputs": [
    {
     "name": "stderr",
     "output_type": "stream",
     "text": [
      "\u001b[2mSearching config file credentials for default 'live' instance..\u001b[0m\n"
     ]
    },
    {
     "name": "stdout",
     "output_type": "stream",
     "text": [
      "\u001b[2mDimcli - Dimensions API Client (v0.9.9.1)\u001b[0m\n",
      "\u001b[2mConnected to: <https://app.dimensions.ai/api/dsl> - DSL v2.4\u001b[0m\n",
      "\u001b[2mMethod: dsl.ini file\u001b[0m\n"
     ]
    }
   ],
   "source": [
    "#Logging in via dsl.ini file - Reference: https://api-lab.dimensions.ai/cookbooks/1-getting-started/1-Using-the-Dimcli-library-to-query-the-API.html#More-secure-method:-storing-a-private-credentials-file\n",
    "dimcli.login()"
   ]
  },
  {
   "cell_type": "code",
   "execution_count": 21,
   "id": "2c3d5a03-8b60-4687-83e3-fb3e82897015",
   "metadata": {},
   "outputs": [],
   "source": [
    "#Alternatively, to login by inputing your api key, uncomment and run the following lines:\n",
    "#import getpass\n",
    "#api_key = getpass.getpass(\"Provide your dimensions API key here: \")\n",
    "#dimcli.login(key=api_key, endpoint=\"https://app.dimensions.ai/api/dsl\")"
   ]
  },
  {
   "cell_type": "code",
   "execution_count": 22,
   "id": "9b0a4ea7-1d7b-4fb8-91e6-6597fff0f3bb",
   "metadata": {},
   "outputs": [
    {
     "data": {
      "text/plain": [
       "dimcli.core.api.Dsl"
      ]
     },
     "execution_count": 22,
     "metadata": {},
     "output_type": "execute_result"
    }
   ],
   "source": [
    "#Creating the dimcli.core object (necessary for querying)\n",
    "dsl = dimcli.Dsl()\n",
    "type(dsl)"
   ]
  },
  {
   "cell_type": "markdown",
   "id": "dbcec9ac-dbe0-43eb-b501-0064128c1f8e",
   "metadata": {},
   "source": [
    "## Querying Dimensions API"
   ]
  },
  {
   "cell_type": "markdown",
   "id": "e1b6e86c-cad4-4787-8ac6-9fb6a4e89d0f",
   "metadata": {},
   "source": [
    "### How to retrieve records?\n",
    "\n",
    "Our objective is to retrieve all publications in Dimensions from Federal University of Rio de Janeiro (UFRJ) - grid.8536.8 - from 2010 to 2021.\n",
    "\n",
    "In order to recover only UFRJ publications, two approaches were selected:\n",
    "- Filtering queries by [GRID identifier](https://www.grid.ac/) using the field `research_orgs.id`\n",
    "- Filtering queries by institution name using the field `research_org_names`\n",
    "\n",
    "Thus, we will compare the number of records filtered by GRID to those obtained through a list of UFRJ alternative names."
   ]
  },
  {
   "cell_type": "code",
   "execution_count": 178,
   "id": "b9bdf0d8-bc84-4c78-9d27-22cac1312424",
   "metadata": {},
   "outputs": [],
   "source": [
    "#Getting number of results for full text query\n",
    "\n",
    "\n",
    "full_text_query = dsl.query(f\"\"\"\n",
    "  search publications in full_data\n",
    "  for \"UFRJ OR Federal University of Rio de Janeiro OR Universidade Federal do Rio de Janeiro\"\n",
    "  where year in {json.dumps(pubyears)}\n",
    "  return year\n",
    "\"\"\", verbose=False).as_dataframe()"
   ]
  },
  {
   "cell_type": "code",
   "execution_count": 179,
   "id": "468b8d64-c602-4041-b05e-a8fc670bc2a4",
   "metadata": {},
   "outputs": [
    {
     "data": {
      "text/html": [
       "<div>\n",
       "<style scoped>\n",
       "    .dataframe tbody tr th:only-of-type {\n",
       "        vertical-align: middle;\n",
       "    }\n",
       "\n",
       "    .dataframe tbody tr th {\n",
       "        vertical-align: top;\n",
       "    }\n",
       "\n",
       "    .dataframe thead th {\n",
       "        text-align: right;\n",
       "    }\n",
       "</style>\n",
       "<table border=\"1\" class=\"dataframe\">\n",
       "  <thead>\n",
       "    <tr style=\"text-align: right;\">\n",
       "      <th></th>\n",
       "      <th>id</th>\n",
       "      <th>count</th>\n",
       "    </tr>\n",
       "  </thead>\n",
       "  <tbody>\n",
       "    <tr>\n",
       "      <th>0</th>\n",
       "      <td>2020</td>\n",
       "      <td>51208</td>\n",
       "    </tr>\n",
       "    <tr>\n",
       "      <th>1</th>\n",
       "      <td>2021</td>\n",
       "      <td>45466</td>\n",
       "    </tr>\n",
       "    <tr>\n",
       "      <th>2</th>\n",
       "      <td>2019</td>\n",
       "      <td>44354</td>\n",
       "    </tr>\n",
       "    <tr>\n",
       "      <th>3</th>\n",
       "      <td>2018</td>\n",
       "      <td>44309</td>\n",
       "    </tr>\n",
       "    <tr>\n",
       "      <th>4</th>\n",
       "      <td>2017</td>\n",
       "      <td>37060</td>\n",
       "    </tr>\n",
       "    <tr>\n",
       "      <th>5</th>\n",
       "      <td>2016</td>\n",
       "      <td>32638</td>\n",
       "    </tr>\n",
       "    <tr>\n",
       "      <th>6</th>\n",
       "      <td>2014</td>\n",
       "      <td>30572</td>\n",
       "    </tr>\n",
       "    <tr>\n",
       "      <th>7</th>\n",
       "      <td>2015</td>\n",
       "      <td>28565</td>\n",
       "    </tr>\n",
       "    <tr>\n",
       "      <th>8</th>\n",
       "      <td>2013</td>\n",
       "      <td>25442</td>\n",
       "    </tr>\n",
       "    <tr>\n",
       "      <th>9</th>\n",
       "      <td>2012</td>\n",
       "      <td>22938</td>\n",
       "    </tr>\n",
       "    <tr>\n",
       "      <th>10</th>\n",
       "      <td>2010</td>\n",
       "      <td>22493</td>\n",
       "    </tr>\n",
       "    <tr>\n",
       "      <th>11</th>\n",
       "      <td>2011</td>\n",
       "      <td>20066</td>\n",
       "    </tr>\n",
       "  </tbody>\n",
       "</table>\n",
       "</div>"
      ],
      "text/plain": [
       "      id  count\n",
       "0   2020  51208\n",
       "1   2021  45466\n",
       "2   2019  44354\n",
       "3   2018  44309\n",
       "4   2017  37060\n",
       "5   2016  32638\n",
       "6   2014  30572\n",
       "7   2015  28565\n",
       "8   2013  25442\n",
       "9   2012  22938\n",
       "10  2010  22493\n",
       "11  2011  20066"
      ]
     },
     "execution_count": 179,
     "metadata": {},
     "output_type": "execute_result"
    }
   ],
   "source": [
    "full_text_query"
   ]
  },
  {
   "cell_type": "code",
   "execution_count": 173,
   "id": "cca30fb9-3892-48dd-864f-ca540f6e3316",
   "metadata": {},
   "outputs": [],
   "source": [
    "final_df = pd.DataFrame(columns=['title','org_names'])\n",
    "for i in pubyears:\n",
    "    partial_df = dsl.query_iterative(f\"\"\"\n",
    "  search publications in full_data\n",
    "  for \"UFRJ OR Federal University of Rio de Janeiro OR Universidade Federal do Rio de Janeiro\"\n",
    "  where year = {json.dumps(i)}\n",
    "  return publications[title+research_org_names]\n",
    "\"\"\", verbose=False, force=True).as_dataframe()\n",
    "    pd.concat([final_df, partial_df])"
   ]
  },
  {
   "cell_type": "code",
   "execution_count": 175,
   "id": "fdf94a2e-e5c4-4663-a74f-1fb701210b7b",
   "metadata": {},
   "outputs": [
    {
     "data": {
      "text/html": [
       "<div>\n",
       "<style scoped>\n",
       "    .dataframe tbody tr th:only-of-type {\n",
       "        vertical-align: middle;\n",
       "    }\n",
       "\n",
       "    .dataframe tbody tr th {\n",
       "        vertical-align: top;\n",
       "    }\n",
       "\n",
       "    .dataframe thead th {\n",
       "        text-align: right;\n",
       "    }\n",
       "</style>\n",
       "<table border=\"1\" class=\"dataframe\">\n",
       "  <thead>\n",
       "    <tr style=\"text-align: right;\">\n",
       "      <th></th>\n",
       "      <th>title</th>\n",
       "      <th>org_names</th>\n",
       "    </tr>\n",
       "  </thead>\n",
       "  <tbody>\n",
       "  </tbody>\n",
       "</table>\n",
       "</div>"
      ],
      "text/plain": [
       "Empty DataFrame\n",
       "Columns: [title, org_names]\n",
       "Index: []"
      ]
     },
     "execution_count": 175,
     "metadata": {},
     "output_type": "execute_result"
    }
   ],
   "source": [
    "final_df"
   ]
  },
  {
   "cell_type": "markdown",
   "id": "0767910a-30dd-49ea-899a-66f15697c18a",
   "metadata": {
    "tags": []
   },
   "source": [
    "Variant names (WoS) para UFRJ:\n",
    "\n",
    "- BIOSCI DEPT EEFD UFRJ\n",
    "- BL G UFRJ\n",
    "- BRAZILS FED UNIV RIO DE JANEIRO\n",
    "- CARLOS CHAGAS FILHO UNIV FED RIO DE JANEIRO\n",
    "- CCS IB UFRJ\n",
    "- CCS UFRJ\n",
    "- CCS UNIV FED RIO DE JANEIRO\n",
    "- COPPE FED UNIV RIO DE JANEIRO\n",
    "- COPPE POLI UFRJ\n",
    "- COPPE UFRJ\n",
    "- COPPE UFRJ FED UNIV RIO DE JANEIRO\n",
    "- COPPE UFRJ PROGRAMA ENG CIVIL\n",
    "- COPPE UFRJ PROGRAMA ENGN NUCL\n",
    "- COPPE UNIV FED RIO DE JANEIRO\n",
    "- CT UFRJ\n",
    "- CTR CIENCIAS SAUDE\n",
    "- CTR CLIMA COPPE UFRJ\n",
    "- CTR TECNOL\n",
    "- CUCC UFRJ\n",
    "- EE UNIV FED RIO DE JANEIRO\n",
    "- EEAN UFRJ\n",
    "- EEFD UFRJ\n",
    "- EQ UFRJ\n",
    "- ESCOLA QUIM UFRJ\n",
    "- FAC FARM UFRJ\n",
    "- FED STATE UNIV RIO DE JANEIRO\n",
    "- FED UNIV HOSP RIO DE JANEIRO\n",
    "- FED UNIV RIO DE JANEIRO\n",
    "- FED UNIV RIO DE JANEIRO EEFD UFRJ\n",
    "- FED UNIV RIO DE JANEIRO HOSP\n",
    "- FED UNIV RIO DE JANEIRO IESC UFRJ\n",
    "- FED UNIV RIO DE JANEIRO ILHA FUNDAO\n",
    "- FED UNIV RIO DE JANEIRO IPUB\n",
    "- FED UNIV RIO DE JANEIRO IPUB UFRJ\n",
    "- FED UNIV RIO DE JANEIRO MOL VIROL\n",
    "- FED UNIV RIO DE JANEIRO PPE COPPE UFRJ\n",
    "- FED UNIV RIO DE JANEIRO REDE TB\n",
    "- FED UNIV RIO DE JANEIRO UFRJ\n",
    "- FED UNIV RIO DE JANERIO\n",
    "- FED UNIV RIO GRANDE\n",
    "- FED UNIV RIO JANEIRO\n",
    "- FED UNIV RIO JANEIRO COPPE UFRJ\n",
    "- FED UNIV UFRJ\n",
    "- FILHO UNIV FED RIO DE JANEIRO\n",
    "- FLUMINENSE FED UNIV RIO DE JANEIRO\n",
    "- G UNIV FED RIO DE JANEIRO\n",
    "- HOSP UNIV CLEMENTINO FRAGA FILHO HUCFF UFRJ\n",
    "- HOSP UNIV CLEMENTINO FRAGA FILHO UFRJ\n",
    "- HOSP UNIV FED RIO DE JANEIRO\n",
    "- HUCFF UFRJ\n",
    "- ICB CCS UFRJ\n",
    "- ICB UFRJ\n",
    "- IF UFRJ\n",
    "- IFCS UFRJ\n",
    "- IGEO UFRJ\n",
    "- ILHA FUNDAO\n",
    "- IMA UFRJ\n",
    "- INJC UFRJ\n",
    "- INST BIOFIS CARLOS CHAGAS FILHO UFRJ\n",
    "- INST MATEMAT UFRJ\n",
    "- IPPMG UFRJ\n",
    "- IPUB UFRJ\n",
    "- IQ UFRJ\n",
    "- IVIG COPPE UFRJ\n",
    "- LAB ENTOMOL MED UFRJ\n",
    "- LAB INSTRUMENTACAO NUCL COPPE UFRJ\n",
    "- LAB PAN RESPIRACAO IPUB UFRJ\n",
    "- LABOCEANO COPPE UFRJ\n",
    "- MECH ENGN PROGRAM PEM COPPE UFRJ\n",
    "- MESEU NACL UFRJ\n",
    "- MUS NACL UFRJ\n",
    "- MUSEO NACL UFRJ\n",
    "- MUSEO NACL UNIV FED RIO DE JANEIRO\n",
    "- MUSEU NACIL UFRJ\n",
    "- MUSEU NACIONAL UNIV FED RIO DE JANEIRO\n",
    "- MUSEU NACL UFRJ\n",
    "- MUSEU NACL UNIV FED RIO DE JANEIRO\n",
    "- MUSEU NATL UFRJ\n",
    "- NUCAT COPPE UFRJ\n",
    "- NUCAT PEQ COPPE UFRJ\n",
    "- OBSERV VALONGO OV UFRJ\n",
    "- OBSERV VALONGO UFRJ\n",
    "- PEM COPPE UFRJ\n",
    "- PEMM COPPE UFRJ\n",
    "- POLI UNIV FED RIO DE JANEIRO\n",
    "- PPGAS MUSEU NACL UFRJ\n",
    "- PPGAS UFRJ\n",
    "- PPGI DCC IM UFRJ\n",
    "- RIO DE JANEIRO FED UNIV\n",
    "- RIO DE JANEIRO FED UNIV PUBL HLTH NUCLEUS\n",
    "- UERJ CNPQ UFRJ\n",
    "- UFRJ\n",
    "- UFRJ CCS\n",
    "- UFRJ EQ\n",
    "- UFRJ FED UNIV RIO DE JANEIRO\n",
    "- UFRJ ILHA DO FUNDAO\n",
    "- UFRJ OBSERV VALONGO\n",
    "- UFRJ UNIV FED RIO DE JANEIRO\n",
    "- UNIV BRASIL UFRJ\n",
    "- UNIV BRAZIL UFRJ\n",
    "- UNIV FED ESTADO RIO DE JANEIRO\n",
    "- UNIV FED HOSP RIO DE JANEIRO\n",
    "- UNIV FED RIO DE JAMEIRO\n",
    "- UNIV FED RIO DE JANEIRO\n",
    "- UNIV FED RIO DE JANEIRO CCS\n",
    "- UNIV FED RIO DE JANEIRO COPPE\n",
    "- UNIV FED RIO DE JANEIRO COPPE EE IF\n",
    "- UNIV FED RIO DE JANEIRO CP\n",
    "- UNIV FED RIO DE JANEIRO E10\n",
    "- UNIV FED RIO DE JANEIRO EQ UFRJ\n",
    "- UNIV FED RIO DE JANEIRO HNS\n",
    "- UNIV FED RIO DE JANEIRO HOSP\n",
    "- UNIV FED RIO DE JANEIRO HUCFF\n",
    "- UNIV FED RIO DE JANEIRO HUCFF UFRJ\n",
    "- UNIV FED RIO DE JANEIRO IBCCF UFRJ\n",
    "- UNIV FED RIO DE JANEIRO ILHA FUNDAO\n",
    "- UNIV FED RIO DE JANEIRO IM\n",
    "- UNIV FED RIO DE JANEIRO INST FIS\n",
    "- UNIV FED RIO DE JANEIRO IPPMG UFRJ\n",
    "- UNIV FED RIO DE JANEIRO IPUB\n",
    "- UNIV FED RIO DE JANEIRO IPUB FRJ\n",
    "- UNIV FED RIO DE JANEIRO IPUB UFRJ\n",
    "- UNIV FED RIO DE JANEIRO POLI\n",
    "- UNIV FED RIO DE JANEIRO RJ\n",
    "- UNIV FED RIO DE JANEIRO UFRJ\n",
    "- UNIV FED RIO DE JANEIRO UNIV BRASIL\n",
    "- UNIV FED RIO DE JANERIO\n",
    "- UNIV FED RIO DE JANIERO\n",
    "- UNIV FED RIO DEJANEIRO\n",
    "- UNIV FED RIO JANEIRO IPUB UFRJ\n",
    "- UNIV FED RIO JANEIRO UFRJ\n",
    "- UNIV FED RURAL RIO DE JANEIRO UFRJ\n",
    "- UNIV FED STATE RIO DE JANEIRO\n",
    "- UNIV FEDERAL RIO DE JANEIRO\n",
    "- UNIV HOSP CLEMENTINO FRAGA FILHO UFRJ\n",
    "- UNIV HOSP ESCOLA SAO FRANCISCO ASSIS HESFA UFRJ\n",
    "- UNIV HOSP FED RIO DE JANEIRO\n",
    "- UNIV HOSP HUCFF UFRJ\n",
    "- UNIV RIO DE JANEIRO\n",
    "- Federal University of Rio de Janeiro\n",
    "- Universidade Federal do Rio de Janeiro\n",
    "- Univ Fed Rio De Janeiro\n",
    "- UFRJ"
   ]
  },
  {
   "cell_type": "code",
   "execution_count": 23,
   "id": "ddb52586-43c1-4354-bcdf-02557ca43885",
   "metadata": {},
   "outputs": [],
   "source": [
    "ufrj_wos_names = [\n",
    "\"BIOSCI DEPT EEFD UFRJ\",\n",
    "\"BL G UFRJ\",\n",
    "\"BRAZILS FED UNIV RIO DE JANEIRO\",\n",
    "\"CARLOS CHAGAS FILHO UNIV FED RIO DE JANEIRO\",\n",
    "\"CCS IB UFRJ\",\n",
    "\"CCS UFRJ\",\n",
    "\"CCS UNIV FED RIO DE JANEIRO\",\n",
    "\"COPPE FED UNIV RIO DE JANEIRO\",\n",
    "\"COPPE POLI UFRJ\",\n",
    "\"COPPE UFRJ\",\n",
    "\"COPPE UFRJ FED UNIV RIO DE JANEIRO\",\n",
    "\"COPPE UFRJ PROGRAMA ENG CIVIL\",\n",
    "\"COPPE UFRJ PROGRAMA ENGN NUCL\",\n",
    "\"COPPE UNIV FED RIO DE JANEIRO\",\n",
    "\"CT UFRJ\",\n",
    "\"CTR CIENCIAS SAUDE\",\n",
    "\"CTR CLIMA COPPE UFRJ\",\n",
    "\"CTR TECNOL\",\n",
    "\"CUCC UFRJ\",\n",
    "\"EE UNIV FED RIO DE JANEIRO\",\n",
    "\"EEAN UFRJ\",\n",
    "\"EEFD UFRJ\",\n",
    "\"EQ UFRJ\",\n",
    "\"ESCOLA QUIM UFRJ\",\n",
    "\"FAC FARM UFRJ\",\n",
    "\"FED STATE UNIV RIO DE JANEIRO\",\n",
    "\"FED UNIV HOSP RIO DE JANEIRO\",\n",
    "\"FED UNIV RIO DE JANEIRO\",\n",
    "\"FED UNIV RIO DE JANEIRO EEFD UFRJ\",\n",
    "\"FED UNIV RIO DE JANEIRO HOSP\",\n",
    "\"FED UNIV RIO DE JANEIRO IESC UFRJ\",\n",
    "\"FED UNIV RIO DE JANEIRO ILHA FUNDAO\",\n",
    "\"FED UNIV RIO DE JANEIRO IPUB\",\n",
    "\"FED UNIV RIO DE JANEIRO IPUB UFRJ\",\n",
    "\"FED UNIV RIO DE JANEIRO MOL VIROL\",\n",
    "\"FED UNIV RIO DE JANEIRO PPE COPPE UFRJ\",\n",
    "\"FED UNIV RIO DE JANEIRO REDE TB\",\n",
    "\"FED UNIV RIO DE JANEIRO UFRJ\",\n",
    "\"FED UNIV RIO DE JANERIO\",\n",
    "\"FED UNIV RIO GRANDE\",\n",
    "\"FED UNIV RIO JANEIRO\",\n",
    "\"FED UNIV RIO JANEIRO COPPE UFRJ\",\n",
    "\"FED UNIV UFRJ\",\n",
    "\"FILHO UNIV FED RIO DE JANEIRO\",\n",
    "\"FLUMINENSE FED UNIV RIO DE JANEIRO\",\n",
    "\"G UNIV FED RIO DE JANEIRO\",\n",
    "\"HOSP UNIV CLEMENTINO FRAGA FILHO HUCFF UFRJ\",\n",
    "\"HOSP UNIV CLEMENTINO FRAGA FILHO UFRJ\",\n",
    "\"HOSP UNIV FED RIO DE JANEIRO\",\n",
    "\"HUCFF UFRJ\",\n",
    "\"ICB CCS UFRJ\",\n",
    "\"ICB UFRJ\",\n",
    "\"IF UFRJ\",\n",
    "\"IFCS UFRJ\",\n",
    "\"IGEO UFRJ\",\n",
    "\"ILHA FUNDAO\",\n",
    "\"IMA UFRJ\",\n",
    "\"INJC UFRJ\",\n",
    "\"INST BIOFIS CARLOS CHAGAS FILHO UFRJ\",\n",
    "\"INST MATEMAT UFRJ\",\n",
    "\"IPPMG UFRJ\",\n",
    "\"IPUB UFRJ\",\n",
    "\"IQ UFRJ\",\n",
    "\"IVIG COPPE UFRJ\",\n",
    "\"LAB ENTOMOL MED UFRJ\",\n",
    "\"LAB INSTRUMENTACAO NUCL COPPE UFRJ\",\n",
    "\"LAB PAN RESPIRACAO IPUB UFRJ\",\n",
    "\"LABOCEANO COPPE UFRJ\",\n",
    "\"MECH ENGN PROGRAM PEM COPPE UFRJ\",\n",
    "\"MESEU NACL UFRJ\",\n",
    "\"MUS NACL UFRJ\",\n",
    "\"MUSEO NACL UFRJ\",\n",
    "\"MUSEO NACL UNIV FED RIO DE JANEIRO\",\n",
    "\"MUSEU NACIL UFRJ\",\n",
    "\"MUSEU NACIONAL UNIV FED RIO DE JANEIRO\",\n",
    "\"MUSEU NACL UFRJ\",\n",
    "\"MUSEU NACL UNIV FED RIO DE JANEIRO\",\n",
    "\"MUSEU NATL UFRJ\",\n",
    "\"NUCAT COPPE UFRJ\",\n",
    "\"NUCAT PEQ COPPE UFRJ\",\n",
    "\"OBSERV VALONGO OV UFRJ\",\n",
    "\"OBSERV VALONGO UFRJ\",\n",
    "\"PEM COPPE UFRJ\",\n",
    "\"PEMM COPPE UFRJ\",\n",
    "\"POLI UNIV FED RIO DE JANEIRO\",\n",
    "\"PPGAS MUSEU NACL UFRJ\",\n",
    "\"PPGAS UFRJ\",\n",
    "\"PPGI DCC IM UFRJ\",\n",
    "\"RIO DE JANEIRO FED UNIV\",\n",
    "\"RIO DE JANEIRO FED UNIV PUBL HLTH NUCLEUS\",\n",
    "\"UERJ CNPQ UFRJ\",\n",
    "\"UFRJ\",\n",
    "\"UFRJ CCS\",\n",
    "\"UFRJ EQ\",\n",
    "\"UFRJ FED UNIV RIO DE JANEIRO\",\n",
    "\"UFRJ ILHA DO FUNDAO\",\n",
    "\"UFRJ OBSERV VALONGO\",\n",
    "\"UFRJ UNIV FED RIO DE JANEIRO\",\n",
    "\"UNIV BRASIL UFRJ\",\n",
    "\"UNIV BRAZIL UFRJ\",\n",
    "\"UNIV FED ESTADO RIO DE JANEIRO\",\n",
    "\"UNIV FED HOSP RIO DE JANEIRO\",\n",
    "\"UNIV FED RIO DE JAMEIRO\",\n",
    "\"UNIV FED RIO DE JANEIRO\",\n",
    "\"UNIV FED RIO DE JANEIRO CCS\",\n",
    "\"UNIV FED RIO DE JANEIRO COPPE\",\n",
    "\"UNIV FED RIO DE JANEIRO COPPE EE IF\",\n",
    "\"UNIV FED RIO DE JANEIRO CP\",\n",
    "\"UNIV FED RIO DE JANEIRO E10\",\n",
    "\"UNIV FED RIO DE JANEIRO EQ UFRJ\",\n",
    "\"UNIV FED RIO DE JANEIRO HNS\",\n",
    "\"UNIV FED RIO DE JANEIRO HOSP\",\n",
    "\"UNIV FED RIO DE JANEIRO HUCFF\",\n",
    "\"UNIV FED RIO DE JANEIRO HUCFF UFRJ\",\n",
    "\"UNIV FED RIO DE JANEIRO IBCCF UFRJ\",\n",
    "\"UNIV FED RIO DE JANEIRO ILHA FUNDAO\",\n",
    "\"UNIV FED RIO DE JANEIRO IM\",\n",
    "\"UNIV FED RIO DE JANEIRO INST FIS\",\n",
    "\"UNIV FED RIO DE JANEIRO IPPMG UFRJ\",\n",
    "\"UNIV FED RIO DE JANEIRO IPUB\",\n",
    "\"UNIV FED RIO DE JANEIRO IPUB FRJ\",\n",
    "\"UNIV FED RIO DE JANEIRO IPUB UFRJ\",\n",
    "\"UNIV FED RIO DE JANEIRO POLI\",\n",
    "\"UNIV FED RIO DE JANEIRO RJ\",\n",
    "\"UNIV FED RIO DE JANEIRO UFRJ\",\n",
    "\"UNIV FED RIO DE JANEIRO UNIV BRASIL\",\n",
    "\"UNIV FED RIO DE JANERIO\",\n",
    "\"UNIV FED RIO DE JANIERO\",\n",
    "\"UNIV FED RIO DEJANEIRO\",\n",
    "\"UNIV FED RIO JANEIRO IPUB UFRJ\",\n",
    "\"UNIV FED RIO JANEIRO UFRJ\",\n",
    "\"UNIV FED RURAL RIO DE JANEIRO UFRJ\",\n",
    "\"UNIV FED STATE RIO DE JANEIRO\",\n",
    "\"UNIV FEDERAL RIO DE JANEIRO\",\n",
    "\"UNIV HOSP CLEMENTINO FRAGA FILHO UFRJ\",\n",
    "\"UNIV HOSP ESCOLA SAO FRANCISCO ASSIS HESFA UFRJ\",\n",
    "\"UNIV HOSP FED RIO DE JANEIRO\",\n",
    "\"UNIV HOSP HUCFF UFRJ\",\n",
    "\"UNIV RIO DE JANEIRO\",\n",
    "\"Federal University of Rio de Janeiro\",\n",
    "\"Universidade Federal do Rio de Janeiro\",\n",
    "\"Univ Fed Rio De Janeiro\",\n",
    "\"UFRJ\"\n",
    "]"
   ]
  },
  {
   "cell_type": "code",
   "execution_count": 93,
   "id": "19661ca7-cac5-4242-ac18-a3a8cb3d99f2",
   "metadata": {},
   "outputs": [],
   "source": [
    "all_case_names = []\n",
    "ufrj_wos_names = [name.upper() for name in ufrj_wos_names] #Converting all elements from original list to uppercase\n",
    "for i in ufrj_wos_names:\n",
    "    all_case_names.append(i)\n",
    "    all_case_names.append(str(i).lower())\n",
    "    all_case_names.append(str(i).title())"
   ]
  },
  {
   "cell_type": "code",
   "execution_count": 94,
   "id": "8423ae79-8d2c-4830-8ac6-90aa61983078",
   "metadata": {
    "tags": []
   },
   "outputs": [
    {
     "data": {
      "text/plain": [
       "429"
      ]
     },
     "execution_count": 94,
     "metadata": {},
     "output_type": "execute_result"
    }
   ],
   "source": [
    "len(all_case_names)"
   ]
  },
  {
   "cell_type": "code",
   "execution_count": 49,
   "id": "a0fc3f96-cdaf-4216-964a-e58b843694ce",
   "metadata": {},
   "outputs": [
    {
     "name": "stdout",
     "output_type": "stream",
     "text": [
      "[2010, 2011, 2012, 2013, 2014, 2015, 2016, 2017, 2018, 2019, 2020, 2021]\n"
     ]
    }
   ],
   "source": [
    "# List of UFRJ alternative names and ufrj_grid\n",
    "#ufrj_names = [\"COPPE\", \"UFRJ\", \"Federal University of Rio de Janeiro\", \"Universidade Federal do Rio de Janeiro\"]\n",
    "#ufrj_names = [\"Universidad Federal de Rio de Janeiro\", \n",
    "#              \"Universite federale de Rio de Janeiro\", \n",
    "#              \"UFRJ\", \n",
    "#              \"Federal University of Rio de Janeiro\", \n",
    "#              \"Universidade Federal do Rio de Janeiro\",\n",
    "#              \"COPPE\"]\n",
    "ufrj_grid = 'grid.8536.8'\n",
    "pubyears = list(range(2010,2022)) #Range is not inclusive on the last value, hence 2022 as the second argument\n",
    "print(pubyears)"
   ]
  },
  {
   "cell_type": "code",
   "execution_count": 50,
   "id": "2b5edfd4-a990-49bd-b7a1-6860480246eb",
   "metadata": {
    "collapsed": true,
    "jupyter": {
     "outputs_hidden": true
    },
    "tags": []
   },
   "outputs": [
    {
     "ename": "SyntaxError",
     "evalue": "'return' outside function (2209143533.py, line 20)",
     "output_type": "error",
     "traceback": [
      "\u001b[0;36m  Input \u001b[0;32mIn [50]\u001b[0;36m\u001b[0m\n\u001b[0;31m    return names_count\u001b[0m\n\u001b[0m    ^\u001b[0m\n\u001b[0;31mSyntaxError\u001b[0m\u001b[0;31m:\u001b[0m 'return' outside function\n"
     ]
    }
   ],
   "source": [
    "# Performing the queries\n",
    "# Code adapted from https://api-lab.dimensions.ai/cookbooks/1-getting-started/6-Working-with-lists.html#3.-Making-a-list-from-the-results-of-a-query\n",
    "\n",
    "\n",
    "grid_count = dsl.query(f\"\"\"\n",
    "  search publications\n",
    "  where research_orgs.id = {json.dumps(ufrj_grid)} and\n",
    "  year in {json.dumps(pubyears)}\n",
    "  return publications\n",
    "  limit 1\n",
    "\"\"\", verbose=False).count_total\n",
    "\n",
    "names_count = dsl.query(f\"\"\"\n",
    "  search publications\n",
    "  where research_org_names in {json.dumps(ufrj_names)} and\n",
    "  year in {json.dumps(pubyears)}\n",
    "  return publications\n",
    "  limit 1\n",
    "\"\"\", verbose=False).count_total\n",
    "return names_count"
   ]
  },
  {
   "cell_type": "code",
   "execution_count": 62,
   "id": "f90b5f9b-7f09-4104-9c03-bc7a54b90aab",
   "metadata": {
    "tags": []
   },
   "outputs": [],
   "source": [
    "# Performing the queries\n",
    "# Code adapted from https://api-lab.dimensions.ai/cookbooks/1-getting-started/6-Working-with-lists.html#3.-Making-a-list-from-the-results-of-a-query\n",
    "\n",
    "\n",
    "grid_count = dsl.query(f\"\"\"\n",
    "  search publications\n",
    "  where research_orgs.id = {json.dumps(ufrj_grid)} and\n",
    "  year in {json.dumps(pubyears)}\n",
    "  return publications\n",
    "  limit 1\n",
    "\"\"\", verbose=False).count_total\n",
    "\n",
    "def get_names_count(names):\n",
    "    names_count = dsl.query(f\"\"\"\n",
    "      search publications\n",
    "      where research_org_names in {json.dumps(names)} and\n",
    "      year in {json.dumps(pubyears)}\n",
    "      return publications\n",
    "      limit 1\n",
    "    \"\"\", verbose=False).count_total\n",
    "    return names_count"
   ]
  },
  {
   "cell_type": "code",
   "execution_count": null,
   "id": "d66bfa1e-e92f-48e9-88e4-7769f62e73c4",
   "metadata": {},
   "outputs": [],
   "source": [
    "## Comparing the results\n",
    "print(f\"\"\"GRID filter recovered {grid_count} records\n",
    "Names filter recovered {names_count} records\n",
    "Diference: {abs(grid_count - names_count)} records\"\"\")"
   ]
  },
  {
   "cell_type": "code",
   "execution_count": 58,
   "id": "60f91131-191e-40e0-a6a2-d422cc8380ca",
   "metadata": {},
   "outputs": [],
   "source": [
    "def compare_two_counts(count1, count2):\n",
    "    print(f\"\"\"Filter 1 recovered {count1} records\n",
    "    Filter 2 recovered {count2} records\n",
    "    Diference: {abs(count1 - count2)} records\"\"\")\n",
    "    #return f\"\"\"Filter 1 recovered {count1} records\n",
    "    #Filter 2 recovered {count2} records\n",
    "    #Diference: {abs(count1 - count2)} records\"\"\""
   ]
  },
  {
   "cell_type": "code",
   "execution_count": 59,
   "id": "893c929e-3126-491a-97c6-ba903ef4f56c",
   "metadata": {},
   "outputs": [],
   "source": [
    "ufrj_names = [\"UFRJ\", \"Federal University of Rio de Janeiro\", \"Universidade Federal do Rio de Janeiro\"]\n",
    "ufrj_wos_names\n",
    "all_case_names\n",
    "ufrj_coppe = ufrj_names.copy()\n",
    "ufrj_coppe.append('COPPE')"
   ]
  },
  {
   "cell_type": "code",
   "execution_count": 60,
   "id": "4784f23f-dc63-41ea-adb0-639a52ea9abe",
   "metadata": {},
   "outputs": [
    {
     "name": "stdout",
     "output_type": "stream",
     "text": [
      "['UFRJ', 'Federal University of Rio de Janeiro', 'Universidade Federal do Rio de Janeiro', 'COPPE']\n"
     ]
    }
   ],
   "source": [
    "print(ufrj_coppe)"
   ]
  },
  {
   "cell_type": "code",
   "execution_count": 61,
   "id": "e0880b92-a7f6-472b-83f7-aa744b42537b",
   "metadata": {},
   "outputs": [
    {
     "data": {
      "text/html": [
       "<div>\n",
       "<style scoped>\n",
       "    .dataframe tbody tr th:only-of-type {\n",
       "        vertical-align: middle;\n",
       "    }\n",
       "\n",
       "    .dataframe tbody tr th {\n",
       "        vertical-align: top;\n",
       "    }\n",
       "\n",
       "    .dataframe thead th {\n",
       "        text-align: right;\n",
       "    }\n",
       "</style>\n",
       "<table border=\"1\" class=\"dataframe\">\n",
       "  <thead>\n",
       "    <tr style=\"text-align: right;\">\n",
       "      <th></th>\n",
       "      <th>id</th>\n",
       "      <th>title</th>\n",
       "      <th>authors</th>\n",
       "      <th>issue</th>\n",
       "      <th>pages</th>\n",
       "      <th>type</th>\n",
       "      <th>volume</th>\n",
       "      <th>year</th>\n",
       "      <th>journal.id</th>\n",
       "      <th>journal.title</th>\n",
       "    </tr>\n",
       "  </thead>\n",
       "  <tbody>\n",
       "    <tr>\n",
       "      <th>0</th>\n",
       "      <td>pub.1152802856</td>\n",
       "      <td>O MST e o Teatro: o processo de criação da peç...</td>\n",
       "      <td>[{'affiliations': [{'city': 'Rio de Janeiro', ...</td>\n",
       "      <td>2</td>\n",
       "      <td>78-91</td>\n",
       "      <td>article</td>\n",
       "      <td>11</td>\n",
       "      <td>2021</td>\n",
       "      <td>jour.1147372</td>\n",
       "      <td>Revista aSPAs</td>\n",
       "    </tr>\n",
       "  </tbody>\n",
       "</table>\n",
       "</div>"
      ],
      "text/plain": [
       "               id                                              title  \\\n",
       "0  pub.1152802856  O MST e o Teatro: o processo de criação da peç...   \n",
       "\n",
       "                                             authors issue  pages     type  \\\n",
       "0  [{'affiliations': [{'city': 'Rio de Janeiro', ...     2  78-91  article   \n",
       "\n",
       "  volume  year    journal.id  journal.title  \n",
       "0     11  2021  jour.1147372  Revista aSPAs  "
      ]
     },
     "execution_count": 61,
     "metadata": {},
     "output_type": "execute_result"
    }
   ],
   "source": [
    "grid_df"
   ]
  },
  {
   "cell_type": "code",
   "execution_count": null,
   "id": "5dd9d881-d701-4f1a-8bf0-418f4e3f3742",
   "metadata": {},
   "outputs": [],
   "source": [
    "ufrj_names_counts = get_names_count(ufrj_names)\n",
    "ufrj_wos_names_counts = get_names_count(ufrj_wos_names)\n",
    "ufrj_coppe_counts = get_names_count(ufrj_coppe)\n",
    "ufrj_allcase_counts = get_names_count(all_case_names)"
   ]
  },
  {
   "cell_type": "code",
   "execution_count": 65,
   "id": "6caca808-91f6-4816-b405-1dfbb5816239",
   "metadata": {},
   "outputs": [],
   "source": [
    "counts = [grid_count, ufrj_names_counts, ufrj_wos_names_counts, ufrj_coppe_counts, ufrj_allcase_counts]"
   ]
  },
  {
   "cell_type": "code",
   "execution_count": 71,
   "id": "2008b59e-ab80-44bf-9f89-362b2e68c246",
   "metadata": {},
   "outputs": [],
   "source": [
    "d = {'col1': ['ufrj_grid', 'ufrj_names', 'ufrj_wos_names', 'ufrj_coppe', 'ufrj_allcase'], 'col2': counts }\n",
    "counts_df = pd.DataFrame(data=d)"
   ]
  },
  {
   "cell_type": "code",
   "execution_count": 123,
   "id": "f2fe428f-680e-411a-abb6-f3a43468a971",
   "metadata": {
    "tags": []
   },
   "outputs": [
    {
     "data": {
      "text/plain": [
       "[Text(0, 0, '55239'),\n",
       " Text(0, 0, '57590'),\n",
       " Text(0, 0, '57743'),\n",
       " Text(0, 0, '57680'),\n",
       " Text(0, 0, '57743')]"
      ]
     },
     "execution_count": 123,
     "metadata": {},
     "output_type": "execute_result"
    },
    {
     "data": {
      "image/png": "[encoded data removed]",
      "text/plain": [
       "<Figure size 432x288 with 1 Axes>"
      ]
     },
     "metadata": {
      "needs_background": "light"
     },
     "output_type": "display_data"
    }
   ],
   "source": [
    "ax = sns.barplot(x=counts_df.col1, y = counts_df.col2)\n",
    "ax.bar_label(ax.containers[0])"
   ]
  },
  {
   "cell_type": "code",
   "execution_count": 52,
   "id": "e951723a-6920-4d33-9a72-10ea51421753",
   "metadata": {},
   "outputs": [
    {
     "name": "stdout",
     "output_type": "stream",
     "text": [
      "Filter 1 recovered 55239 records\n",
      "    Filter 2 recovered 57590 records\n",
      "    Diference: 2351 records\n"
     ]
    }
   ],
   "source": [
    "compare_two_counts(grid_count, ufrj_names_counts)"
   ]
  },
  {
   "cell_type": "code",
   "execution_count": 53,
   "id": "83dae1be-8ca2-40a6-84ca-6fd8b521b5b3",
   "metadata": {},
   "outputs": [
    {
     "name": "stdout",
     "output_type": "stream",
     "text": [
      "Filter 1 recovered 57590 records\n",
      "    Filter 2 recovered 57743 records\n",
      "    Diference: 153 records\n"
     ]
    }
   ],
   "source": [
    "compare_two_counts(ufrj_names_counts, ufrj_wos_names_counts)"
   ]
  },
  {
   "cell_type": "code",
   "execution_count": 63,
   "id": "6243b605-92a4-4601-9dc9-753545783312",
   "metadata": {},
   "outputs": [
    {
     "name": "stdout",
     "output_type": "stream",
     "text": [
      "Filter 1 recovered 57743 records\n",
      "    Filter 2 recovered 57680 records\n",
      "    Diference: 63 records\n"
     ]
    }
   ],
   "source": [
    "compare_two_counts(ufrj_wos_names_counts, ufrj_coppe_counts)"
   ]
  },
  {
   "cell_type": "code",
   "execution_count": 54,
   "id": "567f25dc-725c-4a19-8e42-1f4345ed9658",
   "metadata": {},
   "outputs": [
    {
     "name": "stdout",
     "output_type": "stream",
     "text": [
      "Filter 1 recovered 57590 records\n",
      "    Filter 2 recovered 57680 records\n",
      "    Diference: 90 records\n"
     ]
    }
   ],
   "source": [
    "compare_two_counts(ufrj_names_counts, ufrj_coppe_counts)"
   ]
  },
  {
   "cell_type": "code",
   "execution_count": null,
   "id": "8e355480-a2ba-4e7d-8872-d95f1ed8fc86",
   "metadata": {},
   "outputs": [],
   "source": []
  },
  {
   "cell_type": "code",
   "execution_count": 55,
   "id": "761b8c40-e9b2-4136-992f-ab8d75624e98",
   "metadata": {},
   "outputs": [
    {
     "name": "stdout",
     "output_type": "stream",
     "text": [
      "Filter 1 recovered 57743 records\n",
      "    Filter 2 recovered 57743 records\n",
      "    Diference: 0 records\n"
     ]
    }
   ],
   "source": [
    "##Apparently, the search is case insensitive\n",
    "compare_two_counts(ufrj_wos_names_counts, ufrj_allcase_counts)"
   ]
  },
  {
   "cell_type": "code",
   "execution_count": null,
   "id": "8300bb2a-52a6-4fdd-a95c-066468a80b3c",
   "metadata": {},
   "outputs": [],
   "source": [
    "compare_two_counts(ufrj_wos_names_counts, ufrj_coppe_counts)"
   ]
  },
  {
   "cell_type": "code",
   "execution_count": 56,
   "id": "5dcc5509-30bc-437a-aa4f-3bd6d6e1db22",
   "metadata": {},
   "outputs": [],
   "source": [
    "#Checking up on exclusive records"
   ]
  },
  {
   "cell_type": "code",
   "execution_count": 86,
   "id": "be946e7c-60ff-4bbd-a316-3aaa020812c5",
   "metadata": {},
   "outputs": [
    {
     "data": {
      "text/plain": [
       "['annoying', 'was', 'it']"
      ]
     },
     "execution_count": 86,
     "metadata": {},
     "output_type": "execute_result"
    }
   ],
   "source": [
    "import itertools\n",
    "ab = itertools.chain(['it', 'it'], ['was'], ['annoying'])\n",
    "list(set(ab))"
   ]
  },
  {
   "cell_type": "code",
   "execution_count": 147,
   "id": "a27568f8-d5cd-411c-a203-66a9b6733113",
   "metadata": {},
   "outputs": [],
   "source": [
    "def exclusive_records(main_query, org_names, org_id, pubyears=list(range(2010,2022)) ):\n",
    "    '''The main query parameter is the list of org_names (or GRID id) for which we want to see the unique values.\n",
    "    If the main query is a GRID, set the \"is_id\" option to True'''\n",
    "    org_names_flat = [item for sublist in org_names for item in sublist]\n",
    "    org_names_unique = list(set(org_names_flat))\n",
    "    if main_query != org_id:\n",
    "        org_names = [item for item in org_names_unique if item not in main_query]  #Removing items from the main query\n",
    "        print(f\"Num of positive terms: {len(main_query)}\")\n",
    "        print(f\"Num of negative terms: {len(org_names)}\")\n",
    "        return  dsl.query(f\"\"\"\n",
    "          search publications\n",
    "          where research_org_names in {json.dumps(main_query)} and\n",
    "          not research_org_names in {json.dumps(org_names)} and\n",
    "          not research_orgs.id = {json.dumps(org_id)} and\n",
    "          year in {json.dumps(pubyears)}\n",
    "          return publications\n",
    "          limit 1\n",
    "        \"\"\", verbose=False).count_total \n",
    "        if len(org_names) < 20:\n",
    "            print(f\"Negative terms: {org_names}\")\n",
    "    else:\n",
    "        return  dsl.query(f\"\"\"\n",
    "          search publications\n",
    "          where research_orgs.id = {json.dumps(main_query)} and\n",
    "          not research_orgs.names in {json.dumps(org_names)} and\n",
    "          year in {json.dumps(pubyears)}\n",
    "          return publications\n",
    "          limit 1\n",
    "        \"\"\", verbose=False).count_total "
   ]
  },
  {
   "cell_type": "code",
   "execution_count": 148,
   "id": "5791acb6-a2cd-4da5-ac21-c63108edd1c7",
   "metadata": {},
   "outputs": [
    {
     "name": "stdout",
     "output_type": "stream",
     "text": [
      "ufrj_names:\n",
      "Num of positive terms: 3\n",
      "Num of negative terms: 423\n"
     ]
    },
    {
     "name": "stderr",
     "output_type": "stream",
     "text": [
      "Login token expired. Logging in again.\u001b[0m\n"
     ]
    },
    {
     "name": "stdout",
     "output_type": "stream",
     "text": [
      "Exclusive records: 0\n",
      "ufrj_wos:\n",
      "Num of positive terms: 143\n",
      "Num of negative terms: 285\n",
      "Exclusive records: 0\n",
      "ufrj_coppe:\n",
      "Num of positive terms: 4\n",
      "Num of negative terms: 422\n",
      "Exclusive records: 85\n",
      "ufrj_all_case:\n",
      "Num of positive terms: 429\n",
      "Num of negative terms: 3\n",
      "Exclusive records: 1136\n",
      "1 QueryError found\n",
      "1 QuerySyntaxError found\n",
      "\n",
      "1 ParserError found\n",
      "  * [Line 4:38] ('[') no viable alternative at input '[['\n",
      "Unique records for grid.8536.8: None\n"
     ]
    }
   ],
   "source": [
    "names = {\"ufrj_names\":ufrj_names, \"ufrj_wos\":ufrj_wos_names, \"ufrj_coppe\":ufrj_coppe, \"ufrj_all_case\":all_case_names}\n",
    "names_list = [ ufrj_names, ufrj_wos_names, ufrj_coppe, all_case_names ]\n",
    "org_id = ufrj_grid = 'grid.8536.8'\n",
    "for i in names.keys():\n",
    "    main_query = names.get(i)\n",
    "    print(f\"{i}:\") \n",
    "    print(f\"Exclusive records: {exclusive_records(main_query, names_list, org_id)}\")\n",
    "print(f\"Unique records for {org_id}: {exclusive_records('grid.8536.8', names_list, org_id)}\")"
   ]
  },
  {
   "cell_type": "code",
   "execution_count": 132,
   "id": "dbfdb948-3a3a-4b92-a6ce-d525ff8a5ce7",
   "metadata": {
    "collapsed": true,
    "jupyter": {
     "outputs_hidden": true
    },
    "tags": []
   },
   "outputs": [
    {
     "ename": "KeyboardInterrupt",
     "evalue": "",
     "output_type": "error",
     "traceback": [
      "\u001b[0;31m---------------------------------------------------------------------------\u001b[0m",
      "\u001b[0;31mKeyboardInterrupt\u001b[0m                         Traceback (most recent call last)",
      "Input \u001b[0;32mIn [132]\u001b[0m, in \u001b[0;36m<cell line: 4>\u001b[0;34m()\u001b[0m\n\u001b[1;32m      4\u001b[0m \u001b[38;5;28;01mfor\u001b[39;00m i \u001b[38;5;129;01min\u001b[39;00m names\u001b[38;5;241m.\u001b[39mkeys():\n\u001b[1;32m      5\u001b[0m     main_query \u001b[38;5;241m=\u001b[39m names\u001b[38;5;241m.\u001b[39mget(i)\n\u001b[0;32m----> 6\u001b[0m     \u001b[38;5;28mprint\u001b[39m(\u001b[38;5;124mf\u001b[39m\u001b[38;5;124m\"\u001b[39m\u001b[38;5;124mUnique records for \u001b[39m\u001b[38;5;132;01m{\u001b[39;00mi\u001b[38;5;132;01m}\u001b[39;00m\u001b[38;5;124m: \u001b[39m\u001b[38;5;132;01m{\u001b[39;00mexclusive_records(main_query, names_list, org_id)\u001b[38;5;132;01m}\u001b[39;00m\u001b[38;5;124m\"\u001b[39m)\n\u001b[1;32m      7\u001b[0m \u001b[38;5;28mprint\u001b[39m(\u001b[38;5;124mf\u001b[39m\u001b[38;5;124m\"\u001b[39m\u001b[38;5;124mUnique records for \u001b[39m\u001b[38;5;132;01m{\u001b[39;00morg_id\u001b[38;5;132;01m}\u001b[39;00m\u001b[38;5;124m: \u001b[39m\u001b[38;5;132;01m{\u001b[39;00mexclusive_records(org_id, names_list, org_id)\u001b[38;5;132;01m}\u001b[39;00m\u001b[38;5;124m\"\u001b[39m)\n",
      "Input \u001b[0;32mIn [127]\u001b[0m, in \u001b[0;36mexclusive_records\u001b[0;34m(main_query, org_names, org_id, pubyears)\u001b[0m\n\u001b[1;32m      6\u001b[0m \u001b[38;5;28;01mif\u001b[39;00m main_query \u001b[38;5;241m!=\u001b[39m org_id:\n\u001b[1;32m      7\u001b[0m     org_names \u001b[38;5;241m=\u001b[39m [item \u001b[38;5;28;01mfor\u001b[39;00m item \u001b[38;5;129;01min\u001b[39;00m org_names_unique \u001b[38;5;28;01mif\u001b[39;00m item \u001b[38;5;129;01mnot\u001b[39;00m \u001b[38;5;129;01min\u001b[39;00m main_query]  \u001b[38;5;66;03m#Removing items from the main query\u001b[39;00m\n\u001b[0;32m----> 8\u001b[0m     \u001b[38;5;28;01mreturn\u001b[39;00m  \u001b[43mdsl\u001b[49m\u001b[38;5;241;43m.\u001b[39;49m\u001b[43mquery\u001b[49m\u001b[43m(\u001b[49m\u001b[38;5;124;43mf\u001b[39;49m\u001b[38;5;124;43m\"\"\"\u001b[39;49m\n\u001b[1;32m      9\u001b[0m \u001b[38;5;124;43m      search publications\u001b[39;49m\n\u001b[1;32m     10\u001b[0m \u001b[38;5;124;43m      where research_org_names in \u001b[39;49m\u001b[38;5;132;43;01m{\u001b[39;49;00m\u001b[43mjson\u001b[49m\u001b[38;5;241;43m.\u001b[39;49m\u001b[43mdumps\u001b[49m\u001b[43m(\u001b[49m\u001b[43mmain_query\u001b[49m\u001b[43m)\u001b[49m\u001b[38;5;132;43;01m}\u001b[39;49;00m\u001b[38;5;124;43m and\u001b[39;49m\n\u001b[1;32m     11\u001b[0m \u001b[38;5;124;43m      not research_org_names in \u001b[39;49m\u001b[38;5;132;43;01m{\u001b[39;49;00m\u001b[43mjson\u001b[49m\u001b[38;5;241;43m.\u001b[39;49m\u001b[43mdumps\u001b[49m\u001b[43m(\u001b[49m\u001b[43morg_names\u001b[49m\u001b[43m)\u001b[49m\u001b[38;5;132;43;01m}\u001b[39;49;00m\u001b[38;5;124;43m and\u001b[39;49m\n\u001b[1;32m     12\u001b[0m \u001b[38;5;124;43m      not research_orgs.id = \u001b[39;49m\u001b[38;5;132;43;01m{\u001b[39;49;00m\u001b[43mjson\u001b[49m\u001b[38;5;241;43m.\u001b[39;49m\u001b[43mdumps\u001b[49m\u001b[43m(\u001b[49m\u001b[43morg_id\u001b[49m\u001b[43m)\u001b[49m\u001b[38;5;132;43;01m}\u001b[39;49;00m\u001b[38;5;124;43m and\u001b[39;49m\n\u001b[1;32m     13\u001b[0m \u001b[38;5;124;43m      year in \u001b[39;49m\u001b[38;5;132;43;01m{\u001b[39;49;00m\u001b[43mjson\u001b[49m\u001b[38;5;241;43m.\u001b[39;49m\u001b[43mdumps\u001b[49m\u001b[43m(\u001b[49m\u001b[43mpubyears\u001b[49m\u001b[43m)\u001b[49m\u001b[38;5;132;43;01m}\u001b[39;49;00m\n\u001b[1;32m     14\u001b[0m \u001b[38;5;124;43m      return publications\u001b[39;49m\n\u001b[1;32m     15\u001b[0m \u001b[38;5;124;43m      limit 1\u001b[39;49m\n\u001b[1;32m     16\u001b[0m \u001b[38;5;124;43m    \u001b[39;49m\u001b[38;5;124;43m\"\"\"\u001b[39;49m\u001b[43m,\u001b[49m\u001b[43m \u001b[49m\u001b[43mverbose\u001b[49m\u001b[38;5;241;43m=\u001b[39;49m\u001b[38;5;28;43;01mFalse\u001b[39;49;00m\u001b[43m)\u001b[49m\u001b[38;5;241m.\u001b[39mcount_total \n\u001b[1;32m     17\u001b[0m \u001b[38;5;28;01melse\u001b[39;00m:\n\u001b[1;32m     18\u001b[0m     \u001b[38;5;28;01mreturn\u001b[39;00m  dsl\u001b[38;5;241m.\u001b[39mquery(\u001b[38;5;124mf\u001b[39m\u001b[38;5;124m\"\"\"\u001b[39m\n\u001b[1;32m     19\u001b[0m \u001b[38;5;124m      search publications\u001b[39m\n\u001b[1;32m     20\u001b[0m \u001b[38;5;124m      where research_org.id = \u001b[39m\u001b[38;5;132;01m{\u001b[39;00mjson\u001b[38;5;241m.\u001b[39mdumps(main_query)\u001b[38;5;132;01m}\u001b[39;00m\u001b[38;5;124m and\u001b[39m\n\u001b[0;32m   (...)\u001b[0m\n\u001b[1;32m     24\u001b[0m \u001b[38;5;124m      limit 1\u001b[39m\n\u001b[1;32m     25\u001b[0m \u001b[38;5;124m    \u001b[39m\u001b[38;5;124m\"\"\"\u001b[39m, verbose\u001b[38;5;241m=\u001b[39m\u001b[38;5;28;01mFalse\u001b[39;00m)\u001b[38;5;241m.\u001b[39mcount_total\n",
      "File \u001b[0;32m~/.local/lib/python3.10/site-packages/dimcli/core/api.py:149\u001b[0m, in \u001b[0;36mDsl.query\u001b[0;34m(self, q, show_results, retry, verbose)\u001b[0m\n\u001b[1;32m    147\u001b[0m \u001b[38;5;66;03m#   Execute DSL query.\u001b[39;00m\n\u001b[1;32m    148\u001b[0m start \u001b[38;5;241m=\u001b[39m time\u001b[38;5;241m.\u001b[39mtime()\n\u001b[0;32m--> 149\u001b[0m response \u001b[38;5;241m=\u001b[39m \u001b[43mrequests\u001b[49m\u001b[38;5;241;43m.\u001b[39;49m\u001b[43mpost\u001b[49m\u001b[43m(\u001b[49m\u001b[38;5;28;43mself\u001b[39;49m\u001b[38;5;241;43m.\u001b[39;49m\u001b[43m_url\u001b[49m\u001b[43m,\u001b[49m\u001b[43m \u001b[49m\u001b[43mdata\u001b[49m\u001b[38;5;241;43m=\u001b[39;49m\u001b[43mq\u001b[49m\u001b[38;5;241;43m.\u001b[39;49m\u001b[43mencode\u001b[49m\u001b[43m(\u001b[49m\u001b[43m)\u001b[49m\u001b[43m,\u001b[49m\u001b[43m \u001b[49m\u001b[43mheaders\u001b[49m\u001b[38;5;241;43m=\u001b[39;49m\u001b[38;5;28;43mself\u001b[39;49m\u001b[38;5;241;43m.\u001b[39;49m\u001b[43m_headers\u001b[49m\u001b[43m,\u001b[49m\u001b[43m \u001b[49m\u001b[43mverify\u001b[49m\u001b[38;5;241;43m=\u001b[39;49m\u001b[38;5;28;43mself\u001b[39;49m\u001b[38;5;241;43m.\u001b[39;49m\u001b[43mverify_ssl\u001b[49m\u001b[43m)\u001b[49m\n\u001b[1;32m    150\u001b[0m \u001b[38;5;28;01mif\u001b[39;00m response\u001b[38;5;241m.\u001b[39mstatus_code \u001b[38;5;241m==\u001b[39m \u001b[38;5;241m429\u001b[39m:  \n\u001b[1;32m    151\u001b[0m     \u001b[38;5;66;03m# Too Many Requests\u001b[39;00m\n\u001b[1;32m    152\u001b[0m     printDebug(\n\u001b[1;32m    153\u001b[0m         \u001b[38;5;124m'\u001b[39m\u001b[38;5;124mToo Many Requests for the Server. Sleeping for 30 seconds and then retrying.\u001b[39m\u001b[38;5;124m'\u001b[39m\n\u001b[1;32m    154\u001b[0m     )\n",
      "File \u001b[0;32m/usr/lib/python3.10/site-packages/requests/api.py:115\u001b[0m, in \u001b[0;36mpost\u001b[0;34m(url, data, json, **kwargs)\u001b[0m\n\u001b[1;32m    103\u001b[0m \u001b[38;5;28;01mdef\u001b[39;00m \u001b[38;5;21mpost\u001b[39m(url, data\u001b[38;5;241m=\u001b[39m\u001b[38;5;28;01mNone\u001b[39;00m, json\u001b[38;5;241m=\u001b[39m\u001b[38;5;28;01mNone\u001b[39;00m, \u001b[38;5;241m*\u001b[39m\u001b[38;5;241m*\u001b[39mkwargs):\n\u001b[1;32m    104\u001b[0m     \u001b[38;5;124mr\u001b[39m\u001b[38;5;124;03m\"\"\"Sends a POST request.\u001b[39;00m\n\u001b[1;32m    105\u001b[0m \n\u001b[1;32m    106\u001b[0m \u001b[38;5;124;03m    :param url: URL for the new :class:`Request` object.\u001b[39;00m\n\u001b[0;32m   (...)\u001b[0m\n\u001b[1;32m    112\u001b[0m \u001b[38;5;124;03m    :rtype: requests.Response\u001b[39;00m\n\u001b[1;32m    113\u001b[0m \u001b[38;5;124;03m    \"\"\"\u001b[39;00m\n\u001b[0;32m--> 115\u001b[0m     \u001b[38;5;28;01mreturn\u001b[39;00m \u001b[43mrequest\u001b[49m\u001b[43m(\u001b[49m\u001b[38;5;124;43m\"\u001b[39;49m\u001b[38;5;124;43mpost\u001b[39;49m\u001b[38;5;124;43m\"\u001b[39;49m\u001b[43m,\u001b[49m\u001b[43m \u001b[49m\u001b[43murl\u001b[49m\u001b[43m,\u001b[49m\u001b[43m \u001b[49m\u001b[43mdata\u001b[49m\u001b[38;5;241;43m=\u001b[39;49m\u001b[43mdata\u001b[49m\u001b[43m,\u001b[49m\u001b[43m \u001b[49m\u001b[43mjson\u001b[49m\u001b[38;5;241;43m=\u001b[39;49m\u001b[43mjson\u001b[49m\u001b[43m,\u001b[49m\u001b[43m \u001b[49m\u001b[38;5;241;43m*\u001b[39;49m\u001b[38;5;241;43m*\u001b[39;49m\u001b[43mkwargs\u001b[49m\u001b[43m)\u001b[49m\n",
      "File \u001b[0;32m/usr/lib/python3.10/site-packages/requests/api.py:59\u001b[0m, in \u001b[0;36mrequest\u001b[0;34m(method, url, **kwargs)\u001b[0m\n\u001b[1;32m     55\u001b[0m \u001b[38;5;66;03m# By using the 'with' statement we are sure the session is closed, thus we\u001b[39;00m\n\u001b[1;32m     56\u001b[0m \u001b[38;5;66;03m# avoid leaving sockets open which can trigger a ResourceWarning in some\u001b[39;00m\n\u001b[1;32m     57\u001b[0m \u001b[38;5;66;03m# cases, and look like a memory leak in others.\u001b[39;00m\n\u001b[1;32m     58\u001b[0m \u001b[38;5;28;01mwith\u001b[39;00m sessions\u001b[38;5;241m.\u001b[39mSession() \u001b[38;5;28;01mas\u001b[39;00m session:\n\u001b[0;32m---> 59\u001b[0m     \u001b[38;5;28;01mreturn\u001b[39;00m \u001b[43msession\u001b[49m\u001b[38;5;241;43m.\u001b[39;49m\u001b[43mrequest\u001b[49m\u001b[43m(\u001b[49m\u001b[43mmethod\u001b[49m\u001b[38;5;241;43m=\u001b[39;49m\u001b[43mmethod\u001b[49m\u001b[43m,\u001b[49m\u001b[43m \u001b[49m\u001b[43murl\u001b[49m\u001b[38;5;241;43m=\u001b[39;49m\u001b[43murl\u001b[49m\u001b[43m,\u001b[49m\u001b[43m \u001b[49m\u001b[38;5;241;43m*\u001b[39;49m\u001b[38;5;241;43m*\u001b[39;49m\u001b[43mkwargs\u001b[49m\u001b[43m)\u001b[49m\n",
      "File \u001b[0;32m/usr/lib/python3.10/site-packages/requests/sessions.py:587\u001b[0m, in \u001b[0;36mSession.request\u001b[0;34m(self, method, url, params, data, headers, cookies, files, auth, timeout, allow_redirects, proxies, hooks, stream, verify, cert, json)\u001b[0m\n\u001b[1;32m    582\u001b[0m send_kwargs \u001b[38;5;241m=\u001b[39m {\n\u001b[1;32m    583\u001b[0m     \u001b[38;5;124m\"\u001b[39m\u001b[38;5;124mtimeout\u001b[39m\u001b[38;5;124m\"\u001b[39m: timeout,\n\u001b[1;32m    584\u001b[0m     \u001b[38;5;124m\"\u001b[39m\u001b[38;5;124mallow_redirects\u001b[39m\u001b[38;5;124m\"\u001b[39m: allow_redirects,\n\u001b[1;32m    585\u001b[0m }\n\u001b[1;32m    586\u001b[0m send_kwargs\u001b[38;5;241m.\u001b[39mupdate(settings)\n\u001b[0;32m--> 587\u001b[0m resp \u001b[38;5;241m=\u001b[39m \u001b[38;5;28;43mself\u001b[39;49m\u001b[38;5;241;43m.\u001b[39;49m\u001b[43msend\u001b[49m\u001b[43m(\u001b[49m\u001b[43mprep\u001b[49m\u001b[43m,\u001b[49m\u001b[43m \u001b[49m\u001b[38;5;241;43m*\u001b[39;49m\u001b[38;5;241;43m*\u001b[39;49m\u001b[43msend_kwargs\u001b[49m\u001b[43m)\u001b[49m\n\u001b[1;32m    589\u001b[0m \u001b[38;5;28;01mreturn\u001b[39;00m resp\n",
      "File \u001b[0;32m/usr/lib/python3.10/site-packages/requests/sessions.py:701\u001b[0m, in \u001b[0;36mSession.send\u001b[0;34m(self, request, **kwargs)\u001b[0m\n\u001b[1;32m    698\u001b[0m start \u001b[38;5;241m=\u001b[39m preferred_clock()\n\u001b[1;32m    700\u001b[0m \u001b[38;5;66;03m# Send the request\u001b[39;00m\n\u001b[0;32m--> 701\u001b[0m r \u001b[38;5;241m=\u001b[39m \u001b[43madapter\u001b[49m\u001b[38;5;241;43m.\u001b[39;49m\u001b[43msend\u001b[49m\u001b[43m(\u001b[49m\u001b[43mrequest\u001b[49m\u001b[43m,\u001b[49m\u001b[43m \u001b[49m\u001b[38;5;241;43m*\u001b[39;49m\u001b[38;5;241;43m*\u001b[39;49m\u001b[43mkwargs\u001b[49m\u001b[43m)\u001b[49m\n\u001b[1;32m    703\u001b[0m \u001b[38;5;66;03m# Total elapsed time of the request (approximately)\u001b[39;00m\n\u001b[1;32m    704\u001b[0m elapsed \u001b[38;5;241m=\u001b[39m preferred_clock() \u001b[38;5;241m-\u001b[39m start\n",
      "File \u001b[0;32m/usr/lib/python3.10/site-packages/requests/adapters.py:489\u001b[0m, in \u001b[0;36mHTTPAdapter.send\u001b[0;34m(self, request, stream, timeout, verify, cert, proxies)\u001b[0m\n\u001b[1;32m    487\u001b[0m \u001b[38;5;28;01mtry\u001b[39;00m:\n\u001b[1;32m    488\u001b[0m     \u001b[38;5;28;01mif\u001b[39;00m \u001b[38;5;129;01mnot\u001b[39;00m chunked:\n\u001b[0;32m--> 489\u001b[0m         resp \u001b[38;5;241m=\u001b[39m \u001b[43mconn\u001b[49m\u001b[38;5;241;43m.\u001b[39;49m\u001b[43murlopen\u001b[49m\u001b[43m(\u001b[49m\n\u001b[1;32m    490\u001b[0m \u001b[43m            \u001b[49m\u001b[43mmethod\u001b[49m\u001b[38;5;241;43m=\u001b[39;49m\u001b[43mrequest\u001b[49m\u001b[38;5;241;43m.\u001b[39;49m\u001b[43mmethod\u001b[49m\u001b[43m,\u001b[49m\n\u001b[1;32m    491\u001b[0m \u001b[43m            \u001b[49m\u001b[43murl\u001b[49m\u001b[38;5;241;43m=\u001b[39;49m\u001b[43murl\u001b[49m\u001b[43m,\u001b[49m\n\u001b[1;32m    492\u001b[0m \u001b[43m            \u001b[49m\u001b[43mbody\u001b[49m\u001b[38;5;241;43m=\u001b[39;49m\u001b[43mrequest\u001b[49m\u001b[38;5;241;43m.\u001b[39;49m\u001b[43mbody\u001b[49m\u001b[43m,\u001b[49m\n\u001b[1;32m    493\u001b[0m \u001b[43m            \u001b[49m\u001b[43mheaders\u001b[49m\u001b[38;5;241;43m=\u001b[39;49m\u001b[43mrequest\u001b[49m\u001b[38;5;241;43m.\u001b[39;49m\u001b[43mheaders\u001b[49m\u001b[43m,\u001b[49m\n\u001b[1;32m    494\u001b[0m \u001b[43m            \u001b[49m\u001b[43mredirect\u001b[49m\u001b[38;5;241;43m=\u001b[39;49m\u001b[38;5;28;43;01mFalse\u001b[39;49;00m\u001b[43m,\u001b[49m\n\u001b[1;32m    495\u001b[0m \u001b[43m            \u001b[49m\u001b[43massert_same_host\u001b[49m\u001b[38;5;241;43m=\u001b[39;49m\u001b[38;5;28;43;01mFalse\u001b[39;49;00m\u001b[43m,\u001b[49m\n\u001b[1;32m    496\u001b[0m \u001b[43m            \u001b[49m\u001b[43mpreload_content\u001b[49m\u001b[38;5;241;43m=\u001b[39;49m\u001b[38;5;28;43;01mFalse\u001b[39;49;00m\u001b[43m,\u001b[49m\n\u001b[1;32m    497\u001b[0m \u001b[43m            \u001b[49m\u001b[43mdecode_content\u001b[49m\u001b[38;5;241;43m=\u001b[39;49m\u001b[38;5;28;43;01mFalse\u001b[39;49;00m\u001b[43m,\u001b[49m\n\u001b[1;32m    498\u001b[0m \u001b[43m            \u001b[49m\u001b[43mretries\u001b[49m\u001b[38;5;241;43m=\u001b[39;49m\u001b[38;5;28;43mself\u001b[39;49m\u001b[38;5;241;43m.\u001b[39;49m\u001b[43mmax_retries\u001b[49m\u001b[43m,\u001b[49m\n\u001b[1;32m    499\u001b[0m \u001b[43m            \u001b[49m\u001b[43mtimeout\u001b[49m\u001b[38;5;241;43m=\u001b[39;49m\u001b[43mtimeout\u001b[49m\u001b[43m,\u001b[49m\n\u001b[1;32m    500\u001b[0m \u001b[43m        \u001b[49m\u001b[43m)\u001b[49m\n\u001b[1;32m    502\u001b[0m     \u001b[38;5;66;03m# Send the request.\u001b[39;00m\n\u001b[1;32m    503\u001b[0m     \u001b[38;5;28;01melse\u001b[39;00m:\n\u001b[1;32m    504\u001b[0m         \u001b[38;5;28;01mif\u001b[39;00m \u001b[38;5;28mhasattr\u001b[39m(conn, \u001b[38;5;124m\"\u001b[39m\u001b[38;5;124mproxy_pool\u001b[39m\u001b[38;5;124m\"\u001b[39m):\n",
      "File \u001b[0;32m/usr/lib/python3.10/site-packages/urllib3/connectionpool.py:703\u001b[0m, in \u001b[0;36mHTTPConnectionPool.urlopen\u001b[0;34m(self, method, url, body, headers, retries, redirect, assert_same_host, timeout, pool_timeout, release_conn, chunked, body_pos, **response_kw)\u001b[0m\n\u001b[1;32m    700\u001b[0m     \u001b[38;5;28mself\u001b[39m\u001b[38;5;241m.\u001b[39m_prepare_proxy(conn)\n\u001b[1;32m    702\u001b[0m \u001b[38;5;66;03m# Make the request on the httplib connection object.\u001b[39;00m\n\u001b[0;32m--> 703\u001b[0m httplib_response \u001b[38;5;241m=\u001b[39m \u001b[38;5;28;43mself\u001b[39;49m\u001b[38;5;241;43m.\u001b[39;49m\u001b[43m_make_request\u001b[49m\u001b[43m(\u001b[49m\n\u001b[1;32m    704\u001b[0m \u001b[43m    \u001b[49m\u001b[43mconn\u001b[49m\u001b[43m,\u001b[49m\n\u001b[1;32m    705\u001b[0m \u001b[43m    \u001b[49m\u001b[43mmethod\u001b[49m\u001b[43m,\u001b[49m\n\u001b[1;32m    706\u001b[0m \u001b[43m    \u001b[49m\u001b[43murl\u001b[49m\u001b[43m,\u001b[49m\n\u001b[1;32m    707\u001b[0m \u001b[43m    \u001b[49m\u001b[43mtimeout\u001b[49m\u001b[38;5;241;43m=\u001b[39;49m\u001b[43mtimeout_obj\u001b[49m\u001b[43m,\u001b[49m\n\u001b[1;32m    708\u001b[0m \u001b[43m    \u001b[49m\u001b[43mbody\u001b[49m\u001b[38;5;241;43m=\u001b[39;49m\u001b[43mbody\u001b[49m\u001b[43m,\u001b[49m\n\u001b[1;32m    709\u001b[0m \u001b[43m    \u001b[49m\u001b[43mheaders\u001b[49m\u001b[38;5;241;43m=\u001b[39;49m\u001b[43mheaders\u001b[49m\u001b[43m,\u001b[49m\n\u001b[1;32m    710\u001b[0m \u001b[43m    \u001b[49m\u001b[43mchunked\u001b[49m\u001b[38;5;241;43m=\u001b[39;49m\u001b[43mchunked\u001b[49m\u001b[43m,\u001b[49m\n\u001b[1;32m    711\u001b[0m \u001b[43m\u001b[49m\u001b[43m)\u001b[49m\n\u001b[1;32m    713\u001b[0m \u001b[38;5;66;03m# If we're going to release the connection in ``finally:``, then\u001b[39;00m\n\u001b[1;32m    714\u001b[0m \u001b[38;5;66;03m# the response doesn't need to know about the connection. Otherwise\u001b[39;00m\n\u001b[1;32m    715\u001b[0m \u001b[38;5;66;03m# it will also try to release it and we'll have a double-release\u001b[39;00m\n\u001b[1;32m    716\u001b[0m \u001b[38;5;66;03m# mess.\u001b[39;00m\n\u001b[1;32m    717\u001b[0m response_conn \u001b[38;5;241m=\u001b[39m conn \u001b[38;5;28;01mif\u001b[39;00m \u001b[38;5;129;01mnot\u001b[39;00m release_conn \u001b[38;5;28;01melse\u001b[39;00m \u001b[38;5;28;01mNone\u001b[39;00m\n",
      "File \u001b[0;32m/usr/lib/python3.10/site-packages/urllib3/connectionpool.py:449\u001b[0m, in \u001b[0;36mHTTPConnectionPool._make_request\u001b[0;34m(self, conn, method, url, timeout, chunked, **httplib_request_kw)\u001b[0m\n\u001b[1;32m    444\u001b[0m             httplib_response \u001b[38;5;241m=\u001b[39m conn\u001b[38;5;241m.\u001b[39mgetresponse()\n\u001b[1;32m    445\u001b[0m         \u001b[38;5;28;01mexcept\u001b[39;00m \u001b[38;5;167;01mBaseException\u001b[39;00m \u001b[38;5;28;01mas\u001b[39;00m e:\n\u001b[1;32m    446\u001b[0m             \u001b[38;5;66;03m# Remove the TypeError from the exception chain in\u001b[39;00m\n\u001b[1;32m    447\u001b[0m             \u001b[38;5;66;03m# Python 3 (including for exceptions like SystemExit).\u001b[39;00m\n\u001b[1;32m    448\u001b[0m             \u001b[38;5;66;03m# Otherwise it looks like a bug in the code.\u001b[39;00m\n\u001b[0;32m--> 449\u001b[0m             \u001b[43msix\u001b[49m\u001b[38;5;241;43m.\u001b[39;49m\u001b[43mraise_from\u001b[49m\u001b[43m(\u001b[49m\u001b[43me\u001b[49m\u001b[43m,\u001b[49m\u001b[43m \u001b[49m\u001b[38;5;28;43;01mNone\u001b[39;49;00m\u001b[43m)\u001b[49m\n\u001b[1;32m    450\u001b[0m \u001b[38;5;28;01mexcept\u001b[39;00m (SocketTimeout, BaseSSLError, SocketError) \u001b[38;5;28;01mas\u001b[39;00m e:\n\u001b[1;32m    451\u001b[0m     \u001b[38;5;28mself\u001b[39m\u001b[38;5;241m.\u001b[39m_raise_timeout(err\u001b[38;5;241m=\u001b[39me, url\u001b[38;5;241m=\u001b[39murl, timeout_value\u001b[38;5;241m=\u001b[39mread_timeout)\n",
      "File \u001b[0;32m<string>:3\u001b[0m, in \u001b[0;36mraise_from\u001b[0;34m(value, from_value)\u001b[0m\n",
      "File \u001b[0;32m/usr/lib/python3.10/site-packages/urllib3/connectionpool.py:444\u001b[0m, in \u001b[0;36mHTTPConnectionPool._make_request\u001b[0;34m(self, conn, method, url, timeout, chunked, **httplib_request_kw)\u001b[0m\n\u001b[1;32m    441\u001b[0m \u001b[38;5;28;01mexcept\u001b[39;00m \u001b[38;5;167;01mTypeError\u001b[39;00m:\n\u001b[1;32m    442\u001b[0m     \u001b[38;5;66;03m# Python 3\u001b[39;00m\n\u001b[1;32m    443\u001b[0m     \u001b[38;5;28;01mtry\u001b[39;00m:\n\u001b[0;32m--> 444\u001b[0m         httplib_response \u001b[38;5;241m=\u001b[39m \u001b[43mconn\u001b[49m\u001b[38;5;241;43m.\u001b[39;49m\u001b[43mgetresponse\u001b[49m\u001b[43m(\u001b[49m\u001b[43m)\u001b[49m\n\u001b[1;32m    445\u001b[0m     \u001b[38;5;28;01mexcept\u001b[39;00m \u001b[38;5;167;01mBaseException\u001b[39;00m \u001b[38;5;28;01mas\u001b[39;00m e:\n\u001b[1;32m    446\u001b[0m         \u001b[38;5;66;03m# Remove the TypeError from the exception chain in\u001b[39;00m\n\u001b[1;32m    447\u001b[0m         \u001b[38;5;66;03m# Python 3 (including for exceptions like SystemExit).\u001b[39;00m\n\u001b[1;32m    448\u001b[0m         \u001b[38;5;66;03m# Otherwise it looks like a bug in the code.\u001b[39;00m\n\u001b[1;32m    449\u001b[0m         six\u001b[38;5;241m.\u001b[39mraise_from(e, \u001b[38;5;28;01mNone\u001b[39;00m)\n",
      "File \u001b[0;32m/usr/lib/python3.10/http/client.py:1374\u001b[0m, in \u001b[0;36mHTTPConnection.getresponse\u001b[0;34m(self)\u001b[0m\n\u001b[1;32m   1372\u001b[0m \u001b[38;5;28;01mtry\u001b[39;00m:\n\u001b[1;32m   1373\u001b[0m     \u001b[38;5;28;01mtry\u001b[39;00m:\n\u001b[0;32m-> 1374\u001b[0m         \u001b[43mresponse\u001b[49m\u001b[38;5;241;43m.\u001b[39;49m\u001b[43mbegin\u001b[49m\u001b[43m(\u001b[49m\u001b[43m)\u001b[49m\n\u001b[1;32m   1375\u001b[0m     \u001b[38;5;28;01mexcept\u001b[39;00m \u001b[38;5;167;01mConnectionError\u001b[39;00m:\n\u001b[1;32m   1376\u001b[0m         \u001b[38;5;28mself\u001b[39m\u001b[38;5;241m.\u001b[39mclose()\n",
      "File \u001b[0;32m/usr/lib/python3.10/http/client.py:318\u001b[0m, in \u001b[0;36mHTTPResponse.begin\u001b[0;34m(self)\u001b[0m\n\u001b[1;32m    316\u001b[0m \u001b[38;5;66;03m# read until we get a non-100 response\u001b[39;00m\n\u001b[1;32m    317\u001b[0m \u001b[38;5;28;01mwhile\u001b[39;00m \u001b[38;5;28;01mTrue\u001b[39;00m:\n\u001b[0;32m--> 318\u001b[0m     version, status, reason \u001b[38;5;241m=\u001b[39m \u001b[38;5;28;43mself\u001b[39;49m\u001b[38;5;241;43m.\u001b[39;49m\u001b[43m_read_status\u001b[49m\u001b[43m(\u001b[49m\u001b[43m)\u001b[49m\n\u001b[1;32m    319\u001b[0m     \u001b[38;5;28;01mif\u001b[39;00m status \u001b[38;5;241m!=\u001b[39m CONTINUE:\n\u001b[1;32m    320\u001b[0m         \u001b[38;5;28;01mbreak\u001b[39;00m\n",
      "File \u001b[0;32m/usr/lib/python3.10/http/client.py:279\u001b[0m, in \u001b[0;36mHTTPResponse._read_status\u001b[0;34m(self)\u001b[0m\n\u001b[1;32m    278\u001b[0m \u001b[38;5;28;01mdef\u001b[39;00m \u001b[38;5;21m_read_status\u001b[39m(\u001b[38;5;28mself\u001b[39m):\n\u001b[0;32m--> 279\u001b[0m     line \u001b[38;5;241m=\u001b[39m \u001b[38;5;28mstr\u001b[39m(\u001b[38;5;28;43mself\u001b[39;49m\u001b[38;5;241;43m.\u001b[39;49m\u001b[43mfp\u001b[49m\u001b[38;5;241;43m.\u001b[39;49m\u001b[43mreadline\u001b[49m\u001b[43m(\u001b[49m\u001b[43m_MAXLINE\u001b[49m\u001b[43m \u001b[49m\u001b[38;5;241;43m+\u001b[39;49m\u001b[43m \u001b[49m\u001b[38;5;241;43m1\u001b[39;49m\u001b[43m)\u001b[49m, \u001b[38;5;124m\"\u001b[39m\u001b[38;5;124miso-8859-1\u001b[39m\u001b[38;5;124m\"\u001b[39m)\n\u001b[1;32m    280\u001b[0m     \u001b[38;5;28;01mif\u001b[39;00m \u001b[38;5;28mlen\u001b[39m(line) \u001b[38;5;241m>\u001b[39m _MAXLINE:\n\u001b[1;32m    281\u001b[0m         \u001b[38;5;28;01mraise\u001b[39;00m LineTooLong(\u001b[38;5;124m\"\u001b[39m\u001b[38;5;124mstatus line\u001b[39m\u001b[38;5;124m\"\u001b[39m)\n",
      "File \u001b[0;32m/usr/lib/python3.10/socket.py:705\u001b[0m, in \u001b[0;36mSocketIO.readinto\u001b[0;34m(self, b)\u001b[0m\n\u001b[1;32m    703\u001b[0m \u001b[38;5;28;01mwhile\u001b[39;00m \u001b[38;5;28;01mTrue\u001b[39;00m:\n\u001b[1;32m    704\u001b[0m     \u001b[38;5;28;01mtry\u001b[39;00m:\n\u001b[0;32m--> 705\u001b[0m         \u001b[38;5;28;01mreturn\u001b[39;00m \u001b[38;5;28;43mself\u001b[39;49m\u001b[38;5;241;43m.\u001b[39;49m\u001b[43m_sock\u001b[49m\u001b[38;5;241;43m.\u001b[39;49m\u001b[43mrecv_into\u001b[49m\u001b[43m(\u001b[49m\u001b[43mb\u001b[49m\u001b[43m)\u001b[49m\n\u001b[1;32m    706\u001b[0m     \u001b[38;5;28;01mexcept\u001b[39;00m timeout:\n\u001b[1;32m    707\u001b[0m         \u001b[38;5;28mself\u001b[39m\u001b[38;5;241m.\u001b[39m_timeout_occurred \u001b[38;5;241m=\u001b[39m \u001b[38;5;28;01mTrue\u001b[39;00m\n",
      "File \u001b[0;32m/usr/lib/python3.10/ssl.py:1274\u001b[0m, in \u001b[0;36mSSLSocket.recv_into\u001b[0;34m(self, buffer, nbytes, flags)\u001b[0m\n\u001b[1;32m   1270\u001b[0m     \u001b[38;5;28;01mif\u001b[39;00m flags \u001b[38;5;241m!=\u001b[39m \u001b[38;5;241m0\u001b[39m:\n\u001b[1;32m   1271\u001b[0m         \u001b[38;5;28;01mraise\u001b[39;00m \u001b[38;5;167;01mValueError\u001b[39;00m(\n\u001b[1;32m   1272\u001b[0m           \u001b[38;5;124m\"\u001b[39m\u001b[38;5;124mnon-zero flags not allowed in calls to recv_into() on \u001b[39m\u001b[38;5;132;01m%s\u001b[39;00m\u001b[38;5;124m\"\u001b[39m \u001b[38;5;241m%\u001b[39m\n\u001b[1;32m   1273\u001b[0m           \u001b[38;5;28mself\u001b[39m\u001b[38;5;241m.\u001b[39m\u001b[38;5;18m__class__\u001b[39m)\n\u001b[0;32m-> 1274\u001b[0m     \u001b[38;5;28;01mreturn\u001b[39;00m \u001b[38;5;28;43mself\u001b[39;49m\u001b[38;5;241;43m.\u001b[39;49m\u001b[43mread\u001b[49m\u001b[43m(\u001b[49m\u001b[43mnbytes\u001b[49m\u001b[43m,\u001b[49m\u001b[43m \u001b[49m\u001b[43mbuffer\u001b[49m\u001b[43m)\u001b[49m\n\u001b[1;32m   1275\u001b[0m \u001b[38;5;28;01melse\u001b[39;00m:\n\u001b[1;32m   1276\u001b[0m     \u001b[38;5;28;01mreturn\u001b[39;00m \u001b[38;5;28msuper\u001b[39m()\u001b[38;5;241m.\u001b[39mrecv_into(buffer, nbytes, flags)\n",
      "File \u001b[0;32m/usr/lib/python3.10/ssl.py:1130\u001b[0m, in \u001b[0;36mSSLSocket.read\u001b[0;34m(self, len, buffer)\u001b[0m\n\u001b[1;32m   1128\u001b[0m \u001b[38;5;28;01mtry\u001b[39;00m:\n\u001b[1;32m   1129\u001b[0m     \u001b[38;5;28;01mif\u001b[39;00m buffer \u001b[38;5;129;01mis\u001b[39;00m \u001b[38;5;129;01mnot\u001b[39;00m \u001b[38;5;28;01mNone\u001b[39;00m:\n\u001b[0;32m-> 1130\u001b[0m         \u001b[38;5;28;01mreturn\u001b[39;00m \u001b[38;5;28;43mself\u001b[39;49m\u001b[38;5;241;43m.\u001b[39;49m\u001b[43m_sslobj\u001b[49m\u001b[38;5;241;43m.\u001b[39;49m\u001b[43mread\u001b[49m\u001b[43m(\u001b[49m\u001b[38;5;28;43mlen\u001b[39;49m\u001b[43m,\u001b[49m\u001b[43m \u001b[49m\u001b[43mbuffer\u001b[49m\u001b[43m)\u001b[49m\n\u001b[1;32m   1131\u001b[0m     \u001b[38;5;28;01melse\u001b[39;00m:\n\u001b[1;32m   1132\u001b[0m         \u001b[38;5;28;01mreturn\u001b[39;00m \u001b[38;5;28mself\u001b[39m\u001b[38;5;241m.\u001b[39m_sslobj\u001b[38;5;241m.\u001b[39mread(\u001b[38;5;28mlen\u001b[39m)\n",
      "\u001b[0;31mKeyboardInterrupt\u001b[0m: "
     ]
    }
   ],
   "source": [
    "names = {\"ufrj_names\":ufrj_names, \"ufrj_wos\":ufrj_wos_names, \"ufrj_coppe\":ufrj_coppe}\n",
    "names_list = [ ufrj_names, ufrj_wos_names, ufrj_coppe, all_case_names ]\n",
    "org_id = ufrj_grid = 'grid.8536.8'\n",
    "for i in names.keys():\n",
    "    main_query = names.get(i)\n",
    "    print(f\"Unique records for {i}: {exclusive_records(main_query, names_list, org_id)}\")\n",
    "print(f\"Unique records for {org_id}: {exclusive_records(org_id, names_list, org_id)}\")"
   ]
  },
  {
   "cell_type": "code",
   "execution_count": 97,
   "id": "6b71f5f3-ccdd-4ff7-99f9-c9516a43797f",
   "metadata": {},
   "outputs": [],
   "source": [
    "counts = [ufrj_names, ufrj_wos_names, ufrj_coppe, all_case_names]"
   ]
  },
  {
   "cell_type": "code",
   "execution_count": 99,
   "id": "6635cb26-21df-439d-9148-ebc6912780e3",
   "metadata": {},
   "outputs": [],
   "source": [
    "flat_list = [item for sublist in counts for item in sublist]"
   ]
  },
  {
   "cell_type": "code",
   "execution_count": 102,
   "id": "a171b368-ed3f-406d-a29d-82f73ae59704",
   "metadata": {},
   "outputs": [
    {
     "data": {
      "text/plain": [
       "579"
      ]
     },
     "execution_count": 102,
     "metadata": {},
     "output_type": "execute_result"
    }
   ],
   "source": [
    "len(flat_list)"
   ]
  },
  {
   "cell_type": "code",
   "execution_count": 106,
   "id": "9ac14ea9-ca8e-4844-8c87-2fde4648a587",
   "metadata": {},
   "outputs": [
    {
     "data": {
      "text/plain": [
       "426"
      ]
     },
     "execution_count": 106,
     "metadata": {},
     "output_type": "execute_result"
    }
   ],
   "source": [
    "flat_list_unique = list(set(flat_list))\n",
    "#print(flat_list_unique)\n",
    "len(flat_list_unique)"
   ]
  },
  {
   "cell_type": "code",
   "execution_count": 110,
   "id": "503a12b4-f333-4832-83f7-194ec4827f8c",
   "metadata": {},
   "outputs": [
    {
     "data": {
      "text/plain": [
       "3"
      ]
     },
     "execution_count": 110,
     "metadata": {},
     "output_type": "execute_result"
    }
   ],
   "source": [
    "len([item for item in flat_list_unique if item not in all_case_names])"
   ]
  },
  {
   "cell_type": "code",
   "execution_count": 81,
   "id": "875a7303-2746-4c98-ab2a-38e8d68eccdb",
   "metadata": {},
   "outputs": [
    {
     "data": {
      "text/plain": [
       "2351"
      ]
     },
     "execution_count": 81,
     "metadata": {},
     "output_type": "execute_result"
    }
   ],
   "source": [
    "# The method .query_iterative was used in order to recover all exclusive records\n",
    "# More on iterative querying here: https://api-lab.dimensions.ai/cookbooks/1-getting-started/1-Using-the-Dimcli-library-to-query-the-API.html#Iterative-querying-(loops)\n",
    "dsl.query(f\"\"\"\n",
    "  search publications\n",
    "  where research_org_names in {json.dumps(ufrj_names)} and\n",
    "  not research_orgs.id = {json.dumps(ufrj_grid)} and\n",
    "  year in {json.dumps(pubyears)}\n",
    "  return publications\n",
    "  limit 1\n",
    "\"\"\", verbose=False).count_total #Returns only the title and authors field of each publication. The latter field contains the affiliation data. Json format\n",
    "  #return publications[title+authors]"
   ]
  },
  {
   "cell_type": "code",
   "execution_count": null,
   "id": "2dda4a8d-9375-4f4d-a722-819dcc6d72e9",
   "metadata": {
    "jp-MarkdownHeadingCollapsed": true,
    "tags": []
   },
   "outputs": [],
   "source": [
    "pubs"
   ]
  },
  {
   "cell_type": "code",
   "execution_count": null,
   "id": "7a4b0ee1-5f14-4745-8f19-2e67da374c08",
   "metadata": {},
   "outputs": [],
   "source": [
    "# The method .query_iterative was used in order to recover all exclusive records\n",
    "# More on iterative querying here: https://api-lab.dimensions.ai/cookbooks/1-getting-started/1-Using-the-Dimcli-library-to-query-the-API.html#Iterative-querying-(loops)\n",
    "names_df = dsl.query_iterative(f\"\"\"\n",
    "  search publications\n",
    "  where research_org_names in {json.dumps(ufrj_names)} and\n",
    "  not research_orgs.id = {json.dumps(ufrj_grid)} and\n",
    "  year in {json.dumps(pubyears)}\n",
    "  return publications[basics+extras+categories+book]\n",
    "\"\"\", verbose=False).as_dataframe() #Returns ALL the data"
   ]
  },
  {
   "cell_type": "code",
   "execution_count": null,
   "id": "c129e0ee-865c-4b37-a9b2-246e44efde4c",
   "metadata": {},
   "outputs": [],
   "source": [
    "# The method .query_iterative was used in order to recover all exclusive records\n",
    "# More on iterative querying here: https://api-lab.dimensions.ai/cookbooks/1-getting-started/1-Using-the-Dimcli-library-to-query-the-API.html#Iterative-querying-(loops)\n",
    "pubs = dsl.query_iterative(f\"\"\"\n",
    "  search publications\n",
    "  where research_org_names in {json.dumps(ufrj_names)} and\n",
    "  not research_orgs.id = {json.dumps(ufrj_grid)} and\n",
    "  year in {json.dumps(pubyears)}\n",
    "  return publications[title+research_org_names]\n",
    "\"\"\", verbose=False).as_dataframe() #Returns only the title and authors field of each publication. The latter field contains the affiliation data. Json format\n",
    "  #return publications[title+authors]"
   ]
  },
  {
   "cell_type": "code",
   "execution_count": null,
   "id": "9cab516e-d11d-4364-8fa4-4828a1e8f828",
   "metadata": {},
   "outputs": [],
   "source": [
    "pubs.to_csv('teste.csv')\n",
    "pubs\n",
    "df = pd.DataFrame(pubs.research_org_names.values.tolist()).add_prefix('aff_')\n",
    "#pd.DataFrame(pubs.research_org_names.values.tolist()).add_prefix('aff_').to_csv('test.csv', index=None)"
   ]
  },
  {
   "cell_type": "code",
   "execution_count": null,
   "id": "f58607a7-7b57-4957-8906-e62174869300",
   "metadata": {},
   "outputs": [],
   "source": [
    "pubs2 = pd.merge(pubs, pd.DataFrame(pubs['research_org_names'].values.tolist()).add_prefix('aff_'), left_index=True, right_index=True)"
   ]
  },
  {
   "cell_type": "code",
   "execution_count": null,
   "id": "aff947f3-4209-4d18-8fcb-97b902b78dca",
   "metadata": {},
   "outputs": [],
   "source": [
    "pubs3 = pubs2[pubs2.research_org_names.str.contains('COPPE')].dropna()\n",
    "display(pubs3)\n",
    "#pubs4 = pubs3[~pubs3.apply(lambda col: col.str.contains('UFRJ', na=False))].dropna(how='all')\n",
    "#pubs4.to_csv('test.csv', index=None)"
   ]
  },
  {
   "cell_type": "code",
   "execution_count": null,
   "id": "26f46730-d55e-461a-ae42-47b0ec024e15",
   "metadata": {},
   "outputs": [],
   "source": [
    "def get_aff_list(authors):\n",
    "    #print(authors)\n",
    "    for author in authors:\n",
    "        print(author)\n",
    "        #test = {aff.get('raw_affiliation') for aff in author.get('affiliations')}\n",
    "        #print(test)\n",
    "    return True\n",
    "    \n",
    "def get_affiliations_df(pubs):\n",
    "    for pub in pubs.get('publications'):\n",
    "        title = pub.get('title') #Publication title\n",
    "        #print(pub)\n",
    "        #print(pub.get('title'))\n",
    "        authors = pub.get('authors') #Authors of a given publication\n",
    "        aff_list = get_aff_list(authors)\n",
    "        return True"
   ]
  },
  {
   "cell_type": "code",
   "execution_count": null,
   "id": "7f24483d-e24f-486b-979f-3e206c649708",
   "metadata": {},
   "outputs": [],
   "source": [
    "get_affiliations_df(publications)"
   ]
  },
  {
   "cell_type": "markdown",
   "id": "913240e6-5568-4a81-b0b9-b87171d3cb79",
   "metadata": {
    "tags": []
   },
   "source": [
    "## Amanhã:\n",
    "- [ ] Ver se os records exclusivos são todos (ou em sua maioria) da UFRJ ou se é um dado mais sujo.\n",
    "- [ ] Baixar um csv direto do web app para ver se usando todos os fieldsets eu consigo mais ou menos informação.\n",
    "- [ ] Adicionar os \"Variant Terms\" do WoS na lista de termos e ver o impacto na recuperação de registros\n",
    "- [ ] Checar se minha query está recuperando de forma case insensitive"
   ]
  }
 ],
 "metadata": {
  "kernelspec": {
   "display_name": "Python 3 (ipykernel)",
   "language": "python",
   "name": "python3"
  },
  "language_info": {
   "codemirror_mode": {
    "name": "ipython",
    "version": 3
   },
   "file_extension": ".py",
   "mimetype": "text/x-python",
   "name": "python",
   "nbconvert_exporter": "python",
   "pygments_lexer": "ipython3",
   "version": "3.10.8"
  }
 },
 "nbformat": 4,
 "nbformat_minor": 5
}
