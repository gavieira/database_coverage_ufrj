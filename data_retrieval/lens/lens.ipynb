{
 "cells": [
  {
   "cell_type": "markdown",
   "id": "7f497bb7-9d6d-4c56-a215-01b8be2bba6b",
   "metadata": {},
   "source": [
    "# Lens data retrieval"
   ]
  },
  {
   "cell_type": "markdown",
   "id": "d55cc0be-c27e-4e36-8b73-acad74148eac",
   "metadata": {},
   "source": [
    "In order to obtain Lens data, we have used their [Scholarly Search](https://www.lens.org/lens/search/scholar/list?preview=true&q=) tool.\n",
    "\n",
    "[Our query](https://www.lens.org/lens/search/scholar/list?q=author.affiliation.name:(%22Federal%20University%20of%20Rio%20de%20Janeiro%22)%20OR%20author.affiliation.name:%22UFRJ%22%20OR%20author.affiliation.name:(%22Universidade%20Federal%20do%20Rio%20de%20Janeiro%22)&dateFilterField=publishedYear&publishedYear.from=1900&publishedYear.to=2022) to obtain all UFRJ publications up to 2022 can be summarized as:\n",
    "\n",
    "```\n",
    "Author Affiliation Name: ( \"Federal University of Rio de Janeiro\" ) OR ( Author Affiliation Name: UFRJ OR Author Affiliation Name: ( \"Universidade Federal do Rio de Janeiro\" ) )\n",
    "Filters: Year Published = ( 1900 - 2022 ) \n",
    "```"
   ]
  },
  {
   "cell_type": "markdown",
   "id": "3a48a341-49d8-474f-a8c1-076c58f106e8",
   "metadata": {},
   "source": [
    "This yielded a large number of records (114169 records - access date: 11/02/2022), which goes above the max number of records per download of the platform (50k/download). \n",
    "\n",
    "Thus, we split this data into three subsets containing documents published in the following periods: \n",
    "- [Up to 2012](https://www.lens.org/lens/search/scholar/list?q=author.affiliation.name:(%22Federal%20University%20of%20Rio%20de%20Janeiro%22)%20OR%20author.affiliation.name:%22UFRJ%22%20OR%20author.affiliation.name:(%22Universidade%20Federal%20do%20Rio%20de%20Janeiro%22)&dateFilterField=publishedYear&publishedYear.from=1900&publishedYear.to=2012)\n",
    "- [2013-2019](https://www.lens.org/lens/search/scholar/list?q=author.affiliation.name:(%22Federal%20University%20of%20Rio%20de%20Janeiro%22)%20OR%20author.affiliation.name:%22UFRJ%22%20OR%20author.affiliation.name:(%22Universidade%20Federal%20do%20Rio%20de%20Janeiro%22)&dateFilterField=publishedYear&publishedYear.from=2013&publishedYear.to=2019)\n",
    "- [2020-2022](https://www.lens.org/lens/search/scholar/list?q=author.affiliation.name:(%22Federal%20University%20of%20Rio%20de%20Janeiro%22)%20OR%20author.affiliation.name:%22UFRJ%22%20OR%20author.affiliation.name:(%22Universidade%20Federal%20do%20Rio%20de%20Janeiro%22)&dateFilterField=publishedYear&publishedYear.from=2020&publishedYear.to=2022)\n",
    "\n",
    "Those subsets were downloaded separately (.csv and .jsonl) in 11/02/2023. The 'json lines' output was downloaded in order to obtain fields missing from the csv export, such as author's affiliations."
   ]
  },
  {
   "cell_type": "markdown",
   "id": "47c05630-cf9c-47a4-a494-cfc86093fd9c",
   "metadata": {},
   "source": [
    ".json files were downloaded in 14/02/2023 -> total: 114228. Will use the previous files' lens_id to get the same quantitative if necessary."
   ]
  }
 ],
 "metadata": {
  "kernelspec": {
   "display_name": "Python 3 (ipykernel)",
   "language": "python",
   "name": "python3"
  },
  "language_info": {
   "codemirror_mode": {
    "name": "ipython",
    "version": 3
   },
   "file_extension": ".py",
   "mimetype": "text/x-python",
   "name": "python",
   "nbconvert_exporter": "python",
   "pygments_lexer": "ipython3",
   "version": "3.10.6"
  }
 },
 "nbformat": 4,
 "nbformat_minor": 5
}
