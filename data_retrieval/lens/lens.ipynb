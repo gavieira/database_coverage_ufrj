{
 "cells": [
  {
   "cell_type": "markdown",
   "id": "7f497bb7-9d6d-4c56-a215-01b8be2bba6b",
   "metadata": {},
   "source": [
    "# Lens data retrieval"
   ]
  },
  {
   "cell_type": "markdown",
   "id": "d55cc0be-c27e-4e36-8b73-acad74148eac",
   "metadata": {},
   "source": [
    "In order to obtain Lens data, we have used their [Scholarly Search](https://www.lens.org/lens/search/scholar/list?preview=true&q=) tool.\n",
    "\n",
    "[Our query](https://www.lens.org/lens/search/scholar/list?q=author.affiliation.name:(%22Federal%20University%20of%20Rio%20de%20Janeiro%22)%20OR%20author.affiliation.name:%22UFRJ%22%20OR%20author.affiliation.name:(%22Universidade%20Federal%20do%20Rio%20de%20Janeiro%22)&dateFilterField=publishedYear&publishedYear.from=1900&publishedYear.to=2022) to obtain all UFRJ publications up to 2022 can be summarized as:\n",
    "\n",
    "```\n",
    "Author Affiliation Name: ( \"Federal University of Rio de Janeiro\" ) OR ( Author Affiliation Name: UFRJ OR Author Affiliation Name: ( \"Universidade Federal do Rio de Janeiro\" ) )\n",
    "Filters: Year Published = ( 1900 - 2022 ) \n",
    "```"
   ]
  },
  {
   "cell_type": "markdown",
   "id": "3a48a341-49d8-474f-a8c1-076c58f106e8",
   "metadata": {},
   "source": [
    "This yielded a large number of records (114169 records - access date: 11/02/2022), which goes above the max number of records per download of the platform (50k/download). \n",
    "\n",
    "Thus, we split this data into three subsets containing documents published in the following periods: \n",
    "- [Up to 2012](https://www.lens.org/lens/search/scholar/list?q=author.affiliation.name:(%22Federal%20University%20of%20Rio%20de%20Janeiro%22)%20OR%20author.affiliation.name:%22UFRJ%22%20OR%20author.affiliation.name:(%22Universidade%20Federal%20do%20Rio%20de%20Janeiro%22)&dateFilterField=publishedYear&publishedYear.from=1900&publishedYear.to=2012)\n",
    "- [2013-2019](https://www.lens.org/lens/search/scholar/list?q=author.affiliation.name:(%22Federal%20University%20of%20Rio%20de%20Janeiro%22)%20OR%20author.affiliation.name:%22UFRJ%22%20OR%20author.affiliation.name:(%22Universidade%20Federal%20do%20Rio%20de%20Janeiro%22)&dateFilterField=publishedYear&publishedYear.from=2013&publishedYear.to=2019)\n",
    "- [2020-2022](https://www.lens.org/lens/search/scholar/list?q=author.affiliation.name:(%22Federal%20University%20of%20Rio%20de%20Janeiro%22)%20OR%20author.affiliation.name:%22UFRJ%22%20OR%20author.affiliation.name:(%22Universidade%20Federal%20do%20Rio%20de%20Janeiro%22)&dateFilterField=publishedYear&publishedYear.from=2020&publishedYear.to=2022)\n",
    "\n",
    "Those subsets were downloaded separately (.csv and .jsonl) in 11/02/2023. The 'json lines' output was downloaded in order to obtain "
   ]
  },
  {
   "cell_type": "code",
   "execution_count": null,
   "id": "32c4cd49-5af6-4d4c-b940-b0865c8b8bc2",
   "metadata": {},
   "outputs": [],
   "source": []
  }
 ],
 "metadata": {
  "kernelspec": {
   "display_name": "Python 3 (ipykernel)",
   "language": "python",
   "name": "python3"
  },
  "language_info": {
   "codemirror_mode": {
    "name": "ipython",
    "version": 3
   },
   "file_extension": ".py",
   "mimetype": "text/x-python",
   "name": "python",
   "nbconvert_exporter": "python",
   "pygments_lexer": "ipython3",
   "version": "3.10.6"
  }
 },
 "nbformat": 4,
 "nbformat_minor": 5
}
