{
 "cells": [
  {
   "cell_type": "markdown",
   "id": "f4e3728e-f8e0-4b58-9359-ab01f4828665",
   "metadata": {},
   "source": [
    "# Defining WoS download strategy\n",
    "\n",
    "There are two main approaches to obtain the full records for the publications of interest from the Web of Science online search tool, accessed through the [Portal Periódicos CAPES](https://www-periodicos-capes-gov-br.ez29.periodicos.capes.gov.br/index.php?):\n",
    "\n",
    "- Getting dataset with all custom fields selected (allows for 1000 records/download)\n",
    "- Getting dataset with full record + reference option (allows for 500 records/download)\n",
    "\n",
    "We are going to test if a sample dataset ([UFRJ publications in Nature](https://www.webofscience.com/wos/woscc/summary/73efcaff-4020-4f4e-aeb7-e2deb927394a-6b87d5d4/relevance/1)) from each approach have the same fields/information. If there's no difference between the datasets, we will use the custom fields approach to download all of our data, since it allows retrieval of more records/download."
   ]
  },
  {
   "cell_type": "code",
   "execution_count": 1,
   "id": "18dbea70-bc42-499a-a60c-400ba5cfc63a",
   "metadata": {},
   "outputs": [],
   "source": [
    "import pandas as pd"
   ]
  },
  {
   "cell_type": "code",
   "execution_count": 2,
   "id": "0dfa0a4b-3d8b-4f40-b966-886ef609dab9",
   "metadata": {},
   "outputs": [],
   "source": [
    "#Getting custom fields df\n",
    "custom_fields = pd.read_csv('data/wos_ufrj_nature_custom_selection_all_fields.txt', delimiter='\\t')\n",
    "\n",
    "#Getting full record df\n",
    "full_record = pd.read_csv('data/wos_ufrj_nature_full_records_and_references.txt', delimiter='\\t')"
   ]
  },
  {
   "cell_type": "code",
   "execution_count": 3,
   "id": "b4b4ab30-907e-49dd-b09b-1bda4f7a0a20",
   "metadata": {},
   "outputs": [
    {
     "data": {
      "text/plain": [
       "True"
      ]
     },
     "execution_count": 3,
     "metadata": {},
     "output_type": "execute_result"
    }
   ],
   "source": [
    "#Checking if the two dfs are identical\n",
    "custom_fields.equals(full_record)"
   ]
  },
  {
   "cell_type": "raw",
   "id": "ad4bc3a4-d1ce-47b6-bfb2-fead01f8d4fb",
   "metadata": {},
   "source": [
    "Since both approaches yielded the same data, we'll download WoS records by selecting all available custom fields."
   ]
  },
  {
   "cell_type": "markdown",
   "id": "7a6b07de-089f-4619-85df-080085be30e0",
   "metadata": {},
   "source": [
    "# Downloading WoS records"
   ]
  },
  {
   "cell_type": "markdown",
   "id": "0953ee94-f138-4ac4-8547-da5ab4411359",
   "metadata": {},
   "source": [
    "We have selected all publications of interest from the Web of Science online search tool. [The query](https://www.webofscience.com/wos/woscc/summary/351b40d9-0687-497b-ba2d-e9fad2d57254-6b6cf9a6/relevance/1) can be described as follows:\n",
    "\n",
    "```\n",
    "Universidade Federal do Rio de Janeiro (Affiliation) and\n",
    "NOT Publication Years: 2023\n",
    "```\n",
    "\n",
    "This query returned 77654 results (30/01/2021), which were sorted by date (oldest first).\n",
    "\n",
    "Since this ammount of data is way higher than the limit of records recoverable per download (1000 records/download), we recovered these records by spliting them into <1k downloadable parts. \n",
    "\n",
    "The records were downloaded between 27-01-2023 and 30-01-2023 in both .csv and .bib file formats."
   ]
  }
 ],
 "metadata": {
  "kernelspec": {
   "display_name": "Python 3 (ipykernel)",
   "language": "python",
   "name": "python3"
  },
  "language_info": {
   "codemirror_mode": {
    "name": "ipython",
    "version": 3
   },
   "file_extension": ".py",
   "mimetype": "text/x-python",
   "name": "python",
   "nbconvert_exporter": "python",
   "pygments_lexer": "ipython3",
   "version": "3.10.6"
  }
 },
 "nbformat": 4,
 "nbformat_minor": 5
}
