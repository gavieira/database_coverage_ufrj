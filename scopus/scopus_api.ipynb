{
 "cells": [
  {
   "cell_type": "markdown",
   "id": "08c54997-34b6-4b67-a268-0ecf234ea78f",
   "metadata": {},
   "source": [
    "# Messing around with scopus API"
   ]
  },
  {
   "cell_type": "code",
   "execution_count": 17,
   "id": "3cb391c6-e4ec-4a8f-9cd6-f13c68d4e2d1",
   "metadata": {},
   "outputs": [],
   "source": [
    "def read_api_key_from_txt(txt):\n",
    "    fh = open(txt)\n",
    "    api_key = fh.read()\n",
    "    fh.close()\n",
    "    return api_key"
   ]
  },
  {
   "cell_type": "code",
   "execution_count": 20,
   "id": "66018d25-4dd7-4c44-9eb3-c21926083ba5",
   "metadata": {},
   "outputs": [],
   "source": [
    "api_key = get_api_key_from_txt('../api_keys/scopus_api_key')"
   ]
  }
 ],
 "metadata": {
  "kernelspec": {
   "display_name": "Python 3 (ipykernel)",
   "language": "python",
   "name": "python3"
  },
  "language_info": {
   "codemirror_mode": {
    "name": "ipython",
    "version": 3
   },
   "file_extension": ".py",
   "mimetype": "text/x-python",
   "name": "python",
   "nbconvert_exporter": "python",
   "pygments_lexer": "ipython3",
   "version": "3.10.4"
  }
 },
 "nbformat": 4,
 "nbformat_minor": 5
}
