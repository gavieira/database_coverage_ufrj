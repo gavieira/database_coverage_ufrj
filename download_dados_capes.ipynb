{
 "cells": [
  {
   "cell_type": "markdown",
   "id": "3f2e5de1-0821-4758-960f-37305ee8e674",
   "metadata": {},
   "source": [
    "# Downloading CAPES data\n",
    "\n",
    "This notebook shows how we used the [ckan API](https://docs.ckan.org/en/2.9/api/index.html#) to download open access data from [Dados Abertos CAPES](https://dadosabertos.capes.gov.br/) regarding the evaluation of Postgraduate Programs in Brazil."
   ]
  },
  {
   "cell_type": "code",
   "execution_count": 33,
   "id": "7ad3b106-2070-4168-8d1d-07680a7c37a5",
   "metadata": {},
   "outputs": [],
   "source": [
    "import requests\n",
    "import json\n",
    "import os"
   ]
  },
  {
   "cell_type": "code",
   "execution_count": 34,
   "id": "d4a5180d-84b5-4e74-ad68-67f4315d48b7",
   "metadata": {},
   "outputs": [],
   "source": [
    "# This url will be used to request a full json representation of each dataset from Dados Abertos CAPES\n",
    "url = 'https://dadosabertos.capes.gov.br/api/3/action/package_search'"
   ]
  },
  {
   "cell_type": "code",
   "execution_count": 35,
   "id": "9b78f1af-aa2a-4fbd-90a8-2e6e46e8621b",
   "metadata": {},
   "outputs": [],
   "source": [
    "def get_api_response(url):\n",
    "    response = requests.get(url)\n",
    "    response_dict = json.loads(response.text)\n",
    "    return response_dict"
   ]
  },
  {
   "cell_type": "code",
   "execution_count": 36,
   "id": "c9fe4eba-4bb3-4e92-9471-fb9168f0d9b2",
   "metadata": {},
   "outputs": [],
   "source": [
    "def extract_links(response_dict):\n",
    "    results = response_dict['result']['results'] #Getting only the 'results' portion of the json file\n",
    "    links = {}\n",
    "    for result in results:\n",
    "        name = result['name']\n",
    "        links[name] = []\n",
    "        for resource in result['resources']:\n",
    "            links[name].append(resource['url'])\n",
    "    return links"
   ]
  },
  {
   "cell_type": "code",
   "execution_count": 42,
   "id": "3afe8693-bdbc-4854-8ba6-5661abc8c055",
   "metadata": {},
   "outputs": [],
   "source": [
    "def create_dir(path):\n",
    "    os.makedirs(path, exist_ok=True)"
   ]
  },
  {
   "cell_type": "code",
   "execution_count": 43,
   "id": "4e7be98d-83be-47ab-baff-605f09411254",
   "metadata": {},
   "outputs": [],
   "source": [
    "def download_files(links, outdir='.'):\n",
    "    for k, v in links.items():\n",
    "        path = f\"{outdir}/{k}\"\n",
    "        create_dir(path)\n",
    "        for url in v:\n",
    "            filename = url.rsplit('/',1)[-1]\n",
    "            if filename.endswith(\"csv\"): #Only download .csv files\n",
    "                print(f'Downloading {filename}')\n",
    "                response = requests.get(url)\n",
    "                open(f'{path}/{filename}', 'w').write(response.text) #Response.text is the content in unicode; response.content is the content in bytes"
   ]
  },
  {
   "cell_type": "code",
   "execution_count": 44,
   "id": "9f86a11c-65c0-489c-8368-fa6a466990ce",
   "metadata": {
    "tags": []
   },
   "outputs": [
    {
     "name": "stdout",
     "output_type": "stream",
     "text": [
      "Downloading br-capes-bolsistas-uab-2013-2021-12-01.csv\n",
      "Downloading br-capes-bolsistas-uab-2014-2021-12-01.csv\n",
      "Downloading br-capes-bolsistas-uab-2015-2021-12-01.csv\n",
      "Downloading br-capes-bolsistas-uab-2016-2021-12-01.csv\n",
      "Downloading br-capes-colsucup-docente-2013-2021-03-01.csv\n",
      "Downloading br-capes-colsucup-docente-2014-2021-03-01.csv\n",
      "Downloading br-capes-colsucup-docente-2015-2021-03-01.csv\n",
      "Downloading br-capes-colsucup-docente-2016-2021-03-01.csv\n",
      "Downloading br-capes-bolsistas-uab-2017-2021-10-01.csv\n",
      "Downloading br-capes-bolsistas-uab-2018-2021-10-01.csv\n",
      "Downloading br-capes-bolsistas-uab-2019-2021-10-01.csv\n",
      "Downloading br-capes-bolsistas-uab-2020-2021-10-01.csv\n",
      "Downloading br-capes-bolsas-proeb-2013-2021-12-01.csv\n",
      "Downloading br-capes-bolsas-proeb-2014-2021-12-01.csv\n",
      "Downloading br-capes-bolsas-proeb-2015-2021-12-01.csv\n",
      "Downloading br-capes-bolsas-proeb-2016-2021-12-01.csv\n",
      "Downloading br-capes-bolsas-proeb-2017-2021-11-01.csv\n",
      "Downloading br-capes-bolsas-proeb-2018-2021-11-01.csv\n",
      "Downloading br-capes-bolsas-proeb-2019-2021-11-01.csv\n",
      "Downloading br-capes-bolsas-proeb-2020-2021-11-01.csv\n",
      "Downloading br-capes-colsucup-producao-2017a2020-2021-11-25-artistica-cenicas.csv\n",
      "Downloading br-capes-colsucup-producao-2017a2020-2021-11-25-artistica-musica.csv\n",
      "Downloading br-capes-colsucup-producao-2017a2020-2021-11-25-artistica-outra.csv\n",
      "Downloading br-capes-colsucup-producao-2017a2020-2021-11-25-artistica-visual.csv\n",
      "Downloading br-capes-colsucup-producao-2017a2020-2021-11-25-bibliografica-anais.csv\n",
      "Downloading br-capes-colsucup-producao-2017a2020-2021-11-25-bibliografica-artjr.csv\n",
      "Downloading br-capes-colsucup-producao-2017a2020-2021-11-25-bibliografica-artpe.csv\n",
      "Downloading br-capes-colsucup-producao-2017a2020-2021-11-25-bibliografica-livro.csv\n",
      "Downloading br-capes-colsucup-producao-2017a2020-2021-11-25-bibliografica-outro.csv\n",
      "Downloading br-capes-colsucup-producao-2017a2020-2021-11-25-bibliografica-partmu.csv\n",
      "Downloading br-capes-colsucup-producao-2017a2020-2021-11-25-bibliografica-tradu.csv\n",
      "Downloading br-capes-colsucup-producao-2017a2020-2021-11-25-tecnica-aptra.csv\n",
      "Downloading br-capes-colsucup-producao-2017a2020-2021-11-25-tecnica-cartamap.csv\n",
      "Downloading br-capes-colsucup-producao-2017a2020-2021-11-25-tecnica-cursocdu.csv\n",
      "Downloading br-capes-colsucup-producao-2017a2020-2021-11-25-tecnica-deapli.csv\n",
      "Downloading br-capes-colsucup-producao-2017a2020-2021-11-25-tecnica-destec.csv\n",
      "Downloading br-capes-colsucup-producao-2017a2020-2021-11-25-tecnica-dmdi.csv\n",
      "Downloading br-capes-colsucup-producao-2017a2020-2021-11-25-tecnica-dprodu.csv\n",
      "Downloading br-capes-colsucup-producao-2017a2020-2021-11-25-tecnica-editoria.csv\n",
      "Downloading br-capes-colsucup-producao-2017a2020-2021-11-25-tecnica-maquete.csv\n",
      "Downloading br-capes-colsucup-producao-2017a2020-2021-11-25-tecnica-obraart.csv\n",
      "Downloading br-capes-colsucup-producao-2017a2020-2021-11-25-tecnica-orgevento.csv\n",
      "Downloading br-capes-colsucup-producao-2017a2020-2021-11-25-tecnica-outro.csv\n",
      "Downloading br-capes-colsucup-producao-2017a2020-2021-11-25-tecnica-patente.csv\n",
      "Downloading br-capes-colsucup-producao-2017a2020-2021-11-25-tecnica-progrtv.csv\n",
      "Downloading br-capes-colsucup-producao-2017a2020-2021-11-25-tecnica-repesq.csv\n",
      "Downloading br-capes-colsucup-producao-2017a2020-2021-11-25-tecnica-servtec.csv\n",
      "Downloading br-capes-btd-2013a2016-2017-12-01_2013.csv\n",
      "Downloading br-capes-btd-2013a2016-2017-12-01_2014.csv\n",
      "Downloading br-capes-btd-2013a2016-2017-12-01_2015.csv\n",
      "Downloading br-capes-btd-2013a2016-2017-12-01_2016.csv\n",
      "Downloading br-capes-colsucup-membro-2017-2021-11-10.csv\n",
      "Downloading br-capes-colsucup-membro-2018-2021-11-10.csv\n",
      "Downloading br-capes-colsucup-membro-2019-2021-11-10.csv\n",
      "Downloading br-capes-colsucup-membro-2020-2021-11-10.csv\n",
      "Downloading br-capes-colsucup-financiador-2017-2021-11-10.csv\n",
      "Downloading br-capes-colsucup-financiador-2018-2021-11-10.csv\n",
      "Downloading br-capes-colsucup-financiador-2019-2021-11-10.csv\n",
      "Downloading br-capes-colsucup-financiador-2020-2021-11-10.csv\n",
      "Downloading br-capes-colsucup-projeto-2017-2021-11-10.csv\n",
      "Downloading br-capes-colsucup-projeto-2018-2021-11-10.csv\n",
      "Downloading br-capes-colsucup-projeto-2019-2021-11-10.csv\n",
      "Downloading br-capes-colsucup-projeto-2020-2021-11-10.csv\n"
     ]
    }
   ],
   "source": [
    "test = get_api_response(url)\n",
    "links = extract_links(test)\n",
    "download_files(links, outdir='data')"
   ]
  },
  {
   "cell_type": "code",
   "execution_count": null,
   "id": "4c24640a-1360-423b-93d1-251d12db01e0",
   "metadata": {},
   "outputs": [],
   "source": []
  }
 ],
 "metadata": {
  "kernelspec": {
   "display_name": "Python 3 (ipykernel)",
   "language": "python",
   "name": "python3"
  },
  "language_info": {
   "codemirror_mode": {
    "name": "ipython",
    "version": 3
   },
   "file_extension": ".py",
   "mimetype": "text/x-python",
   "name": "python",
   "nbconvert_exporter": "python",
   "pygments_lexer": "ipython3",
   "version": "3.9.5"
  }
 },
 "nbformat": 4,
 "nbformat_minor": 5
}
